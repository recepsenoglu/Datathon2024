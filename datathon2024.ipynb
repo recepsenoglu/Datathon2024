{
 "cells": [
  {
   "cell_type": "code",
   "execution_count": 1,
   "metadata": {},
   "outputs": [
    {
     "name": "stdout",
     "output_type": "stream",
     "text": [
      "Setup Complete\n"
     ]
    }
   ],
   "source": [
    "import numpy as np\n",
    "import pandas as pd\n",
    "import seaborn as sns\n",
    "import matplotlib.pyplot as plt\n",
    "import datetime as dt\n",
    "\n",
    "import warnings\n",
    "warnings.filterwarnings(\"ignore\")\n",
    "\n",
    "print(\"Setup Complete\")"
   ]
  },
  {
   "cell_type": "code",
   "execution_count": 2,
   "metadata": {},
   "outputs": [
    {
     "data": {
      "text/html": [
       "<div>\n",
       "<style scoped>\n",
       "    .dataframe tbody tr th:only-of-type {\n",
       "        vertical-align: middle;\n",
       "    }\n",
       "\n",
       "    .dataframe tbody tr th {\n",
       "        vertical-align: top;\n",
       "    }\n",
       "\n",
       "    .dataframe thead th {\n",
       "        text-align: right;\n",
       "    }\n",
       "</style>\n",
       "<table border=\"1\" class=\"dataframe\">\n",
       "  <thead>\n",
       "    <tr style=\"text-align: right;\">\n",
       "      <th></th>\n",
       "      <th>Basvuru Yili</th>\n",
       "      <th>Degerlendirme Puani</th>\n",
       "      <th>Cinsiyet</th>\n",
       "      <th>Dogum Tarihi</th>\n",
       "      <th>Dogum Yeri</th>\n",
       "      <th>Ikametgah Sehri</th>\n",
       "      <th>Universite Adi</th>\n",
       "      <th>Universite Turu</th>\n",
       "      <th>Burslu ise Burs Yuzdesi</th>\n",
       "      <th>Burs Aliyor mu?</th>\n",
       "      <th>...</th>\n",
       "      <th>Spor Dalindaki Rolunuz Nedir?</th>\n",
       "      <th>Aktif olarak bir STK üyesi misiniz?</th>\n",
       "      <th>Hangi STK'nin Uyesisiniz?</th>\n",
       "      <th>Stk Projesine Katildiniz Mi?</th>\n",
       "      <th>Girisimcilikle Ilgili Deneyiminiz Var Mi?</th>\n",
       "      <th>Girisimcilikle Ilgili Deneyiminizi Aciklayabilir misiniz?</th>\n",
       "      <th>Ingilizce Biliyor musunuz?</th>\n",
       "      <th>Ingilizce Seviyeniz?</th>\n",
       "      <th>Daha Önceden Mezun Olunduysa, Mezun Olunan Üniversite</th>\n",
       "      <th>id</th>\n",
       "    </tr>\n",
       "  </thead>\n",
       "  <tbody>\n",
       "    <tr>\n",
       "      <th>0</th>\n",
       "      <td>2014</td>\n",
       "      <td>52.0</td>\n",
       "      <td>Erkek</td>\n",
       "      <td>4/6/1994</td>\n",
       "      <td>Altindag, Ankara</td>\n",
       "      <td>Ankara</td>\n",
       "      <td>İHSAN DOĞRAMACI BİLKENT</td>\n",
       "      <td>Özel</td>\n",
       "      <td>100.0</td>\n",
       "      <td>Evet</td>\n",
       "      <td>...</td>\n",
       "      <td>Diğer</td>\n",
       "      <td>Hayır</td>\n",
       "      <td>NaN</td>\n",
       "      <td>Evet</td>\n",
       "      <td>Hayır</td>\n",
       "      <td>NaN</td>\n",
       "      <td>NaN</td>\n",
       "      <td>NaN</td>\n",
       "      <td>NaN</td>\n",
       "      <td>0</td>\n",
       "    </tr>\n",
       "    <tr>\n",
       "      <th>1</th>\n",
       "      <td>2014</td>\n",
       "      <td>30.0</td>\n",
       "      <td>Erkek</td>\n",
       "      <td>6/11/1993</td>\n",
       "      <td>Üsküdar</td>\n",
       "      <td>İstanbul</td>\n",
       "      <td>İHSAN DOĞRAMACI BİLKENT</td>\n",
       "      <td>Özel</td>\n",
       "      <td>100.0</td>\n",
       "      <td>Hayır</td>\n",
       "      <td>...</td>\n",
       "      <td>0</td>\n",
       "      <td>Hayır</td>\n",
       "      <td>NaN</td>\n",
       "      <td>Evet</td>\n",
       "      <td>Evet</td>\n",
       "      <td>Bilkent Cyberparkta bir şirkette Türkiye nin i...</td>\n",
       "      <td>NaN</td>\n",
       "      <td>NaN</td>\n",
       "      <td>NaN</td>\n",
       "      <td>1</td>\n",
       "    </tr>\n",
       "    <tr>\n",
       "      <th>2</th>\n",
       "      <td>2014</td>\n",
       "      <td>18.0</td>\n",
       "      <td>Erkek</td>\n",
       "      <td>1/15/1986</td>\n",
       "      <td>Samsun</td>\n",
       "      <td>İstanbul</td>\n",
       "      <td>ULUSLARARASI KIBRIS ÜNİVERSİTESİ</td>\n",
       "      <td>Özel</td>\n",
       "      <td>100.0</td>\n",
       "      <td>Hayır</td>\n",
       "      <td>...</td>\n",
       "      <td>0</td>\n",
       "      <td>Hayır</td>\n",
       "      <td>NaN</td>\n",
       "      <td>Hayır</td>\n",
       "      <td>Hayır</td>\n",
       "      <td>NaN</td>\n",
       "      <td>NaN</td>\n",
       "      <td>NaN</td>\n",
       "      <td>NaN</td>\n",
       "      <td>2</td>\n",
       "    </tr>\n",
       "    <tr>\n",
       "      <th>3</th>\n",
       "      <td>2014</td>\n",
       "      <td>40.0</td>\n",
       "      <td>Erkek</td>\n",
       "      <td>6/4/1991</td>\n",
       "      <td>Diyarbakır</td>\n",
       "      <td>İstanbul</td>\n",
       "      <td>İSTANBUL ŞEHİR ÜNİVERSİTESİ</td>\n",
       "      <td>Özel</td>\n",
       "      <td>100.0</td>\n",
       "      <td>Evet</td>\n",
       "      <td>...</td>\n",
       "      <td>0</td>\n",
       "      <td>Hayır</td>\n",
       "      <td>NaN</td>\n",
       "      <td>Evet</td>\n",
       "      <td>Hayır</td>\n",
       "      <td>NaN</td>\n",
       "      <td>NaN</td>\n",
       "      <td>NaN</td>\n",
       "      <td>NaN</td>\n",
       "      <td>3</td>\n",
       "    </tr>\n",
       "    <tr>\n",
       "      <th>4</th>\n",
       "      <td>2014</td>\n",
       "      <td>24.0</td>\n",
       "      <td>Erkek</td>\n",
       "      <td>2 Kasim 1992</td>\n",
       "      <td>Ankara/Altındağ</td>\n",
       "      <td>Ankara</td>\n",
       "      <td>TURGUT ÖZAL ÜNİVERSİTESİ</td>\n",
       "      <td>Özel</td>\n",
       "      <td>100.0</td>\n",
       "      <td>Evet</td>\n",
       "      <td>...</td>\n",
       "      <td>0</td>\n",
       "      <td>Hayır</td>\n",
       "      <td>NaN</td>\n",
       "      <td>Hayır</td>\n",
       "      <td>Hayır</td>\n",
       "      <td>NaN</td>\n",
       "      <td>NaN</td>\n",
       "      <td>NaN</td>\n",
       "      <td>NaN</td>\n",
       "      <td>4</td>\n",
       "    </tr>\n",
       "  </tbody>\n",
       "</table>\n",
       "<p>5 rows × 44 columns</p>\n",
       "</div>"
      ],
      "text/plain": [
       "   Basvuru Yili  Degerlendirme Puani Cinsiyet  Dogum Tarihi        Dogum Yeri  \\\n",
       "0          2014                 52.0    Erkek      4/6/1994  Altindag, Ankara   \n",
       "1          2014                 30.0    Erkek     6/11/1993           Üsküdar   \n",
       "2          2014                 18.0    Erkek     1/15/1986            Samsun   \n",
       "3          2014                 40.0    Erkek      6/4/1991        Diyarbakır   \n",
       "4          2014                 24.0    Erkek  2 Kasim 1992   Ankara/Altındağ   \n",
       "\n",
       "  Ikametgah Sehri                    Universite Adi Universite Turu  \\\n",
       "0          Ankara           İHSAN DOĞRAMACI BİLKENT            Özel   \n",
       "1        İstanbul           İHSAN DOĞRAMACI BİLKENT            Özel   \n",
       "2        İstanbul  ULUSLARARASI KIBRIS ÜNİVERSİTESİ            Özel   \n",
       "3        İstanbul       İSTANBUL ŞEHİR ÜNİVERSİTESİ            Özel   \n",
       "4          Ankara          TURGUT ÖZAL ÜNİVERSİTESİ            Özel   \n",
       "\n",
       "   Burslu ise Burs Yuzdesi Burs Aliyor mu?  ... Spor Dalindaki Rolunuz Nedir?  \\\n",
       "0                    100.0            Evet  ...                         Diğer   \n",
       "1                    100.0           Hayır  ...                             0   \n",
       "2                    100.0           Hayır  ...                             0   \n",
       "3                    100.0            Evet  ...                             0   \n",
       "4                    100.0            Evet  ...                             0   \n",
       "\n",
       "  Aktif olarak bir STK üyesi misiniz? Hangi STK'nin Uyesisiniz?  \\\n",
       "0                               Hayır                       NaN   \n",
       "1                               Hayır                       NaN   \n",
       "2                               Hayır                       NaN   \n",
       "3                               Hayır                       NaN   \n",
       "4                               Hayır                       NaN   \n",
       "\n",
       "  Stk Projesine Katildiniz Mi? Girisimcilikle Ilgili Deneyiminiz Var Mi?  \\\n",
       "0                         Evet                                     Hayır   \n",
       "1                         Evet                                      Evet   \n",
       "2                        Hayır                                     Hayır   \n",
       "3                         Evet                                     Hayır   \n",
       "4                        Hayır                                     Hayır   \n",
       "\n",
       "  Girisimcilikle Ilgili Deneyiminizi Aciklayabilir misiniz?  \\\n",
       "0                                                NaN          \n",
       "1  Bilkent Cyberparkta bir şirkette Türkiye nin i...          \n",
       "2                                                NaN          \n",
       "3                                                NaN          \n",
       "4                                                NaN          \n",
       "\n",
       "  Ingilizce Biliyor musunuz? Ingilizce Seviyeniz?  \\\n",
       "0                        NaN                  NaN   \n",
       "1                        NaN                  NaN   \n",
       "2                        NaN                  NaN   \n",
       "3                        NaN                  NaN   \n",
       "4                        NaN                  NaN   \n",
       "\n",
       "  Daha Önceden Mezun Olunduysa, Mezun Olunan Üniversite id  \n",
       "0                                                NaN     0  \n",
       "1                                                NaN     1  \n",
       "2                                                NaN     2  \n",
       "3                                                NaN     3  \n",
       "4                                                NaN     4  \n",
       "\n",
       "[5 rows x 44 columns]"
      ]
     },
     "execution_count": 2,
     "metadata": {},
     "output_type": "execute_result"
    }
   ],
   "source": [
    "data_ = pd.read_csv(\"data/train.csv\")\n",
    "data = data_.copy()\n",
    "data.head()"
   ]
  },
  {
   "cell_type": "code",
   "execution_count": 3,
   "metadata": {},
   "outputs": [
    {
     "name": "stdout",
     "output_type": "stream",
     "text": [
      "<class 'pandas.core.frame.DataFrame'>\n",
      "RangeIndex: 65125 entries, 0 to 65124\n",
      "Data columns (total 43 columns):\n",
      " #   Column                                                     Non-Null Count  Dtype  \n",
      "---  ------                                                     --------------  -----  \n",
      " 0   Basvuru Yili                                               65125 non-null  int64  \n",
      " 1   Degerlendirme Puani                                        65124 non-null  float64\n",
      " 2   Cinsiyet                                                   64956 non-null  object \n",
      " 3   Dogum Tarihi                                               64948 non-null  object \n",
      " 4   Dogum Yeri                                                 64334 non-null  object \n",
      " 5   Ikametgah Sehri                                            63088 non-null  object \n",
      " 6   Universite Adi                                             64993 non-null  object \n",
      " 7   Universite Turu                                            64870 non-null  object \n",
      " 8   Burslu ise Burs Yuzdesi                                    22440 non-null  float64\n",
      " 9   Burs Aliyor mu?                                            65125 non-null  object \n",
      " 10  Bölüm                                                      64894 non-null  object \n",
      " 11  Universite Kacinci Sinif                                   64751 non-null  object \n",
      " 12  Universite Not Ortalamasi                                  62372 non-null  object \n",
      " 13  Daha Once Baska Bir Universiteden Mezun Olmus              27780 non-null  object \n",
      " 14  Lise Adi                                                   64741 non-null  object \n",
      " 15  Lise Adi Diger                                             4733 non-null   object \n",
      " 16  Lise Sehir                                                 64071 non-null  object \n",
      " 17  Lise Turu                                                  64278 non-null  object \n",
      " 18  Lise Bolumu                                                64116 non-null  object \n",
      " 19  Lise Bolum Diger                                           1526 non-null   object \n",
      " 20  Lise Mezuniyet Notu                                        59208 non-null  object \n",
      " 21  Baska Bir Kurumdan Burs Aliyor mu?                         64894 non-null  object \n",
      " 22  Burs Aldigi Baska Kurum                                    21148 non-null  object \n",
      " 23  Baska Kurumdan Aldigi Burs Miktari                         20963 non-null  object \n",
      " 24  Anne Egitim Durumu                                         64719 non-null  object \n",
      " 25  Anne Calisma Durumu                                        53229 non-null  object \n",
      " 26  Anne Sektor                                                30588 non-null  object \n",
      " 27  Baba Egitim Durumu                                         64118 non-null  object \n",
      " 28  Baba Calisma Durumu                                        52507 non-null  object \n",
      " 29  Baba Sektor                                                44747 non-null  object \n",
      " 30  Kardes Sayisi                                              63993 non-null  object \n",
      " 31  Girisimcilik Kulupleri Tarzi Bir Kulube Uye misiniz?       63296 non-null  object \n",
      " 32  Uye Oldugunuz Kulubun Ismi                                 16434 non-null  object \n",
      " 33  Profesyonel Bir Spor Daliyla Mesgul musunuz?               64010 non-null  object \n",
      " 34  Spor Dalindaki Rolunuz Nedir?                              32850 non-null  object \n",
      " 35  Aktif olarak bir STK üyesi misiniz?                        52283 non-null  object \n",
      " 36  Hangi STK'nin Uyesisiniz?                                  15607 non-null  object \n",
      " 37  Stk Projesine Katildiniz Mi?                               36817 non-null  object \n",
      " 38  Girisimcilikle Ilgili Deneyiminiz Var Mi?                  52285 non-null  object \n",
      " 39  Girisimcilikle Ilgili Deneyiminizi Aciklayabilir misiniz?  14599 non-null  object \n",
      " 40  Ingilizce Biliyor musunuz?                                 58671 non-null  object \n",
      " 41  Ingilizce Seviyeniz?                                       28592 non-null  object \n",
      " 42  Daha Önceden Mezun Olunduysa, Mezun Olunan Üniversite      419 non-null    object \n",
      "dtypes: float64(2), int64(1), object(40)\n",
      "memory usage: 21.4+ MB\n"
     ]
    }
   ],
   "source": [
    "data.drop(columns=[\"id\"], inplace=True)\n",
    "data.info()"
   ]
  },
  {
   "cell_type": "code",
   "execution_count": 4,
   "metadata": {},
   "outputs": [
    {
     "data": {
      "text/plain": [
       "Index(['Basvuru Yili', 'Degerlendirme Puani', 'Cinsiyet', 'Dogum Tarihi',\n",
       "       'Dogum Yeri', 'Ikametgah Sehri', 'Universite Adi', 'Universite Turu',\n",
       "       'Burslu ise Burs Yuzdesi', 'Burs Aliyor mu?', 'Bölüm',\n",
       "       'Universite Kacinci Sinif', 'Universite Not Ortalamasi',\n",
       "       'Daha Once Baska Bir Universiteden Mezun Olmus', 'Lise Adi',\n",
       "       'Lise Adi Diger', 'Lise Sehir', 'Lise Turu', 'Lise Bolumu',\n",
       "       'Lise Bolum Diger', 'Lise Mezuniyet Notu',\n",
       "       'Baska Bir Kurumdan Burs Aliyor mu?', 'Burs Aldigi Baska Kurum',\n",
       "       'Baska Kurumdan Aldigi Burs Miktari', 'Anne Egitim Durumu',\n",
       "       'Anne Calisma Durumu', 'Anne Sektor', 'Baba Egitim Durumu',\n",
       "       'Baba Calisma Durumu', 'Baba Sektor', 'Kardes Sayisi',\n",
       "       'Girisimcilik Kulupleri Tarzi Bir Kulube Uye misiniz?',\n",
       "       'Uye Oldugunuz Kulubun Ismi',\n",
       "       'Profesyonel Bir Spor Daliyla Mesgul musunuz?',\n",
       "       'Spor Dalindaki Rolunuz Nedir?', 'Aktif olarak bir STK üyesi misiniz?',\n",
       "       'Hangi STK'nin Uyesisiniz?', 'Stk Projesine Katildiniz Mi?',\n",
       "       'Girisimcilikle Ilgili Deneyiminiz Var Mi?',\n",
       "       'Girisimcilikle Ilgili Deneyiminizi Aciklayabilir misiniz?',\n",
       "       'Ingilizce Biliyor musunuz?', 'Ingilizce Seviyeniz?',\n",
       "       'Daha Önceden Mezun Olunduysa, Mezun Olunan Üniversite'],\n",
       "      dtype='object')"
      ]
     },
     "execution_count": 4,
     "metadata": {},
     "output_type": "execute_result"
    }
   ],
   "source": [
    "data.columns"
   ]
  },
  {
   "cell_type": "code",
   "execution_count": 8,
   "metadata": {},
   "outputs": [],
   "source": [
    "data.rename(columns={\"Aktif olarak bir STK üyesi misiniz?\": \"STK_Member\"}, inplace=True)"
   ]
  },
  {
   "cell_type": "code",
   "execution_count": 9,
   "metadata": {},
   "outputs": [
    {
     "data": {
      "text/plain": [
       "STK_Member\n",
       "0    50558\n",
       "1    14567\n",
       "Name: count, dtype: int64"
      ]
     },
     "execution_count": 9,
     "metadata": {},
     "output_type": "execute_result"
    }
   ],
   "source": [
    "data.STK_Member = data.STK_Member.map(lambda x: 1 if x == \"Evet\" else 0)\n",
    "data.STK_Member.value_counts()"
   ]
  },
  {
   "cell_type": "code",
   "execution_count": 10,
   "metadata": {},
   "outputs": [],
   "source": [
    "data.rename(columns={\"Hangi STK'nin Uyesisiniz?\": \"STK_Name\"}, inplace=True)"
   ]
  },
  {
   "cell_type": "code",
   "execution_count": 11,
   "metadata": {},
   "outputs": [
    {
     "data": {
      "text/plain": [
       "STK_Name\n",
       "-                                                                                                                                                                           2956\n",
       "Kızılay                                                                                                                                                                      238\n",
       "Toplum Gönüllüleri Vakfı                                                                                                                                                     196\n",
       "TEMA                                                                                                                                                                         181\n",
       "LÖSEV                                                                                                                                                                        149\n",
       "                                                                                                                                                                            ... \n",
       "Dopingle Mücadele Komisyonu                                                                                                                                                    1\n",
       "İzmir gönüllüler                                                                                                                                                               1\n",
       "ODTÜ IEEE - Sosyal Sorumluluk Projesi Grubu üyesiyim. İşaret dili eğitimi aldım.                                                                                               1\n",
       "Genç barış inisiyatifi ve genç kızılay aktif üyesiyim                                                                                                                          1\n",
       "Genç Kızılay Topluluğu'nda 3 yıldır gönüllüyüm. 1 yıl boyunca topluluğun yönetim kurulunda üye ilişkileri birimi sorumlusuydum. Şu an gönüllü olarak toplulukta aktifim.       1\n",
       "Name: count, Length: 9490, dtype: int64"
      ]
     },
     "execution_count": 11,
     "metadata": {},
     "output_type": "execute_result"
    }
   ],
   "source": [
    "data.STK_Name.value_counts()"
   ]
  },
  {
   "cell_type": "code",
   "execution_count": 12,
   "metadata": {},
   "outputs": [],
   "source": [
    "data.drop(columns=[\"STK_Name\"], inplace=True)"
   ]
  },
  {
   "cell_type": "code",
   "execution_count": 13,
   "metadata": {},
   "outputs": [],
   "source": [
    "data.rename(columns={\"Stk Projesine Katildiniz Mi?\": \"STK_Project_Attendee\"}, inplace=True)"
   ]
  },
  {
   "cell_type": "code",
   "execution_count": 14,
   "metadata": {},
   "outputs": [
    {
     "data": {
      "text/plain": [
       "STK_Project_Attendee\n",
       "0    47969\n",
       "1    17156\n",
       "Name: count, dtype: int64"
      ]
     },
     "execution_count": 14,
     "metadata": {},
     "output_type": "execute_result"
    }
   ],
   "source": [
    "data.STK_Project_Attendee = data.STK_Project_Attendee.map(lambda x: 1 if x == \"Evet\" else 0)\n",
    "data.STK_Project_Attendee.value_counts()"
   ]
  },
  {
   "cell_type": "code",
   "execution_count": 15,
   "metadata": {},
   "outputs": [],
   "source": [
    "data.rename(columns={\"Girisimcilikle Ilgili Deneyiminiz Var Mi?\": \"Entrepreneur_Experience\"}, inplace=True)"
   ]
  },
  {
   "cell_type": "code",
   "execution_count": 16,
   "metadata": {},
   "outputs": [
    {
     "data": {
      "text/plain": [
       "Entrepreneur_Experience\n",
       "0    46759\n",
       "1    18366\n",
       "Name: count, dtype: int64"
      ]
     },
     "execution_count": 16,
     "metadata": {},
     "output_type": "execute_result"
    }
   ],
   "source": [
    "data.Entrepreneur_Experience = data.Entrepreneur_Experience.map(lambda x: 1 if x == \"Evet\" else 0)\n",
    "data.Entrepreneur_Experience.value_counts()\n"
   ]
  },
  {
   "cell_type": "code",
   "execution_count": 17,
   "metadata": {},
   "outputs": [],
   "source": [
    "data.rename(columns={\"Girisimcilikle Ilgili Deneyiminizi Aciklayabilir misiniz?\": \"Entrepreneur_Experience_Description\"}, inplace=True)"
   ]
  },
  {
   "cell_type": "code",
   "execution_count": 18,
   "metadata": {},
   "outputs": [
    {
     "data": {
      "text/plain": [
       "Entrepreneur_Experience_Description\n",
       "-                                                                                                                                                                                        5196\n",
       "Ticaret                                                                                                                                                                                    13\n",
       "E ticaret                                                                                                                                                                                   9\n",
       "Borsa                                                                                                                                                                                       8\n",
       "B                                                                                                                                                                                           8\n",
       "                                                                                                                                                                                         ... \n",
       "Suanda restoran işletiyorum. KOSGEB eğitimlerine katıldım fakat destek almadım.                                                                                                             1\n",
       "İnternet projeleri ve mobil projeler oldukça ilgimi çekmektedir. Kendi fikirlerimi hayata geçirdim.                                                                                         1\n",
       "1-Girisimcilik100 2-intelagenda.com 3-Haberchina                                                                                                                                            1\n",
       "45. TUBİTAK MALATYA BÖLGE YARIŞMASI                                                                                                                                                         1\n",
       "Aile desteğiyle yemek sektöründe küçük bir işletme açtık. Ablamla birlikte işletmenin yönetimini sağladık fakat ekonomik sebeplerden dolayı işletmeyi kapatmak mecburiyetinde kaldık.       1\n",
       "Name: count, Length: 9286, dtype: int64"
      ]
     },
     "execution_count": 18,
     "metadata": {},
     "output_type": "execute_result"
    }
   ],
   "source": [
    "data.Entrepreneur_Experience_Description.value_counts()"
   ]
  },
  {
   "cell_type": "code",
   "execution_count": 19,
   "metadata": {},
   "outputs": [],
   "source": [
    "data.drop(columns=[\"Entrepreneur_Experience_Description\"], inplace=True)"
   ]
  },
  {
   "cell_type": "code",
   "execution_count": 20,
   "metadata": {},
   "outputs": [],
   "source": [
    "data.rename(columns={\"Ingilizce Biliyor musunuz?\": \"English_Knowledge\"}, inplace=True)"
   ]
  },
  {
   "cell_type": "code",
   "execution_count": 21,
   "metadata": {},
   "outputs": [
    {
     "data": {
      "text/plain": [
       "English_Knowledge\n",
       "1    48872\n",
       "0    16253\n",
       "Name: count, dtype: int64"
      ]
     },
     "execution_count": 21,
     "metadata": {},
     "output_type": "execute_result"
    }
   ],
   "source": [
    "data.English_Knowledge = data.English_Knowledge.map(lambda x: 1 if x == \"Evet\" else 0)\n",
    "data.English_Knowledge.value_counts()\n"
   ]
  },
  {
   "cell_type": "code",
   "execution_count": 22,
   "metadata": {},
   "outputs": [],
   "source": [
    "data.rename(columns={\"Ingilizce Seviyeniz?\": \"English_Level\"}, inplace=True)"
   ]
  },
  {
   "cell_type": "code",
   "execution_count": 23,
   "metadata": {},
   "outputs": [
    {
     "data": {
      "text/plain": [
       "np.int64(36533)"
      ]
     },
     "execution_count": 23,
     "metadata": {},
     "output_type": "execute_result"
    }
   ],
   "source": [
    "data.English_Level.isna().sum()"
   ]
  },
  {
   "cell_type": "code",
   "execution_count": 24,
   "metadata": {},
   "outputs": [
    {
     "data": {
      "text/plain": [
       "English_Level\n",
       "Orta         13057\n",
       "İleri         8318\n",
       "Başlangıç     5180\n",
       "0             2037\n",
       "Name: count, dtype: int64"
      ]
     },
     "execution_count": 24,
     "metadata": {},
     "output_type": "execute_result"
    }
   ],
   "source": [
    "data.English_Level.value_counts()"
   ]
  },
  {
   "cell_type": "code",
   "execution_count": 25,
   "metadata": {},
   "outputs": [
    {
     "data": {
      "text/plain": [
       "English_Level\n",
       "0    38570\n",
       "2    13057\n",
       "3     8318\n",
       "1     5180\n",
       "Name: count, dtype: int64"
      ]
     },
     "execution_count": 25,
     "metadata": {},
     "output_type": "execute_result"
    }
   ],
   "source": [
    "english_level_mapping = {\n",
    "    '0': 0,\n",
    "    'Başlangıç': 1,\n",
    "    'Orta': 2,\n",
    "    'İleri': 3\n",
    "}\n",
    "\n",
    "data.English_Level= data.English_Level.apply(lambda x: english_level_mapping.get(x, 0))\n",
    "data.English_Level.value_counts()"
   ]
  },
  {
   "cell_type": "code",
   "execution_count": 26,
   "metadata": {},
   "outputs": [],
   "source": [
    "data.rename(columns={\"Profesyonel Bir Spor Daliyla Mesgul musunuz?\": \"Sports_Professional\"}, inplace=True)"
   ]
  },
  {
   "cell_type": "code",
   "execution_count": 27,
   "metadata": {},
   "outputs": [
    {
     "data": {
      "text/plain": [
       "Sports_Professional\n",
       "0    43358\n",
       "1    21767\n",
       "Name: count, dtype: int64"
      ]
     },
     "execution_count": 27,
     "metadata": {},
     "output_type": "execute_result"
    }
   ],
   "source": [
    "data.Sports_Professional = data.Sports_Professional.map(lambda x: 1 if x == \"Evet\" else 0)\n",
    "data.Sports_Professional.value_counts()"
   ]
  },
  {
   "cell_type": "code",
   "execution_count": 28,
   "metadata": {},
   "outputs": [],
   "source": [
    "data.rename(columns={\"Spor Dalindaki Rolunuz Nedir?\": \"Sports_Role\"}, inplace=True)"
   ]
  },
  {
   "cell_type": "code",
   "execution_count": 29,
   "metadata": {},
   "outputs": [
    {
     "data": {
      "text/plain": [
       "Sports_Role\n",
       "0                 11315\n",
       "Diğer              8836\n",
       "-                  4173\n",
       "Lider/Kaptan       1994\n",
       "DİĞER              1945\n",
       "Bireysel           1697\n",
       "Takım Oyuncusu     1175\n",
       "Kaptan              873\n",
       "KAPTAN / LİDER      842\n",
       "Name: count, dtype: int64"
      ]
     },
     "execution_count": 29,
     "metadata": {},
     "output_type": "execute_result"
    }
   ],
   "source": [
    "data.Sports_Role.value_counts()"
   ]
  },
  {
   "cell_type": "code",
   "execution_count": 30,
   "metadata": {},
   "outputs": [],
   "source": [
    "data.Sports_Role.fillna(\"-\", inplace=True)"
   ]
  },
  {
   "cell_type": "code",
   "execution_count": 31,
   "metadata": {},
   "outputs": [
    {
     "data": {
      "text/plain": [
       "Sports_Role\n",
       "-                 47763\n",
       "Diğer             10781\n",
       "Lider              3709\n",
       "Bireysel           1697\n",
       "Takım Oyuncusu     1175\n",
       "Name: count, dtype: int64"
      ]
     },
     "execution_count": 31,
     "metadata": {},
     "output_type": "execute_result"
    }
   ],
   "source": [
    "def fix_sports_role(x):\n",
    "    if x in ['0', '-']:\n",
    "        return '-'\n",
    "    if x in ['Lider/Kaptan', 'Kaptan', 'KAPTAN / LİDER']:\n",
    "        return 'Lider'\n",
    "    if x in ['Diğer', \"DİĞER\"]:\n",
    "        return 'Diğer'\n",
    "    return x\n",
    "\n",
    "data.Sports_Role = data.Sports_Role.apply(fix_sports_role)\n",
    "data.Sports_Role.value_counts()"
   ]
  },
  {
   "cell_type": "code",
   "execution_count": 32,
   "metadata": {},
   "outputs": [
    {
     "data": {
      "text/plain": [
       "np.int64(0)"
      ]
     },
     "execution_count": 32,
     "metadata": {},
     "output_type": "execute_result"
    }
   ],
   "source": [
    "data.Sports_Role.isna().sum()"
   ]
  },
  {
   "cell_type": "code",
   "execution_count": 33,
   "metadata": {},
   "outputs": [],
   "source": [
    "data.drop(columns=[\"Sports_Role\"], inplace=True)"
   ]
  },
  {
   "cell_type": "code",
   "execution_count": 34,
   "metadata": {},
   "outputs": [],
   "source": [
    "data.rename(columns={\"Girisimcilik Kulupleri Tarzi Bir Kulube Uye misiniz?\": \"Startup_Club_Member\"}, inplace=True)"
   ]
  },
  {
   "cell_type": "code",
   "execution_count": 35,
   "metadata": {},
   "outputs": [
    {
     "data": {
      "text/plain": [
       "Startup_Club_Member\n",
       "0    35539\n",
       "1    29586\n",
       "Name: count, dtype: int64"
      ]
     },
     "execution_count": 35,
     "metadata": {},
     "output_type": "execute_result"
    }
   ],
   "source": [
    "data.Startup_Club_Member = data.Startup_Club_Member.map(lambda x: 1 if x == \"Evet\" else 0)\n",
    "data.Startup_Club_Member.value_counts()"
   ]
  },
  {
   "cell_type": "code",
   "execution_count": 36,
   "metadata": {},
   "outputs": [],
   "source": [
    "data.rename(columns={\"Uye Oldugunuz Kulubun Ismi\": \"Startup_Club_Name\"}, inplace=True)"
   ]
  },
  {
   "cell_type": "code",
   "execution_count": 37,
   "metadata": {},
   "outputs": [
    {
     "data": {
      "text/plain": [
       "Startup_Club_Name\n",
       "IEEE                                                                            203\n",
       "Girişimcilik Kulübü                                                              60\n",
       "Kalite ve Verimlilik Kulübü                                                      43\n",
       "AIESEC                                                                           40\n",
       "İşletme Kulübü                                                                   39\n",
       "                                                                               ... \n",
       "KARADENİZ TEKNİK ÜNİVERSİTESİ EDEBİYAT KLÜBÜ                                      1\n",
       "Koüsat                                                                            1\n",
       "İzmir gençleri dağcılık klübü                                                     1\n",
       "üniversite bünyesinde işletme kulübü ve kültür kulübünde aktif rol alıyorum.      1\n",
       "Genç Kızılay                                                                      1\n",
       "Name: count, Length: 13423, dtype: int64"
      ]
     },
     "execution_count": 37,
     "metadata": {},
     "output_type": "execute_result"
    }
   ],
   "source": [
    "data.Startup_Club_Name.value_counts()"
   ]
  },
  {
   "cell_type": "code",
   "execution_count": 38,
   "metadata": {},
   "outputs": [
    {
     "data": {
      "text/plain": [
       "Startup_Club_Name\n",
       "-                                                                               48694\n",
       "IEEE                                                                              203\n",
       "Girişimcilik Kulübü                                                                60\n",
       "Kalite ve Verimlilik Kulübü                                                        43\n",
       "AIESEC                                                                             40\n",
       "                                                                                ...  \n",
       "KARADENİZ TEKNİK ÜNİVERSİTESİ EDEBİYAT KLÜBÜ                                        1\n",
       "Koüsat                                                                              1\n",
       "İzmir gençleri dağcılık klübü                                                       1\n",
       "üniversite bünyesinde işletme kulübü ve kültür kulübünde aktif rol alıyorum.        1\n",
       "Genç Kızılay                                                                        1\n",
       "Name: count, Length: 13423, dtype: int64"
      ]
     },
     "execution_count": 38,
     "metadata": {},
     "output_type": "execute_result"
    }
   ],
   "source": [
    "data.Startup_Club_Name = data.Startup_Club_Name.apply(lambda x: \"-\" if str(x) == \"nan\" else str(x))\n",
    "data.Startup_Club_Name.value_counts()"
   ]
  },
  {
   "cell_type": "code",
   "execution_count": 39,
   "metadata": {},
   "outputs": [
    {
     "data": {
      "text/plain": [
       "13423"
      ]
     },
     "execution_count": 39,
     "metadata": {},
     "output_type": "execute_result"
    }
   ],
   "source": [
    "data.Startup_Club_Name.nunique()"
   ]
  },
  {
   "cell_type": "code",
   "execution_count": 40,
   "metadata": {},
   "outputs": [],
   "source": [
    "data.drop(columns=[\"Startup_Club_Name\"], inplace=True, axis=1)"
   ]
  },
  {
   "cell_type": "code",
   "execution_count": 41,
   "metadata": {},
   "outputs": [],
   "source": [
    "import unicodedata\n",
    "\n",
    "# Fazla boşlukları ve büyük/küçük harf farkını düzeltme fonksiyonu\n",
    "def fix_unicodedata(x):\n",
    "    # Stringe çevir ve küçük harfe dönüştür\n",
    "    x = str(x).lower().strip()\n",
    "    \n",
    "    # Fazla boşlukları tek bir boşluğa indirgeme\n",
    "    x = ' '.join(x.split())\n",
    "    \n",
    "    # Unicode normalizasyonu yap\n",
    "    x = unicodedata.normalize('NFKD', x)\n",
    "    x = ''.join([c for c in x if not unicodedata.combining(c)])\n",
    "    return x"
   ]
  },
  {
   "cell_type": "code",
   "execution_count": 42,
   "metadata": {},
   "outputs": [],
   "source": [
    "data.rename(columns={\"Kardes Sayisi\": \"Siblings\"}, inplace=True)"
   ]
  },
  {
   "cell_type": "code",
   "execution_count": 43,
   "metadata": {},
   "outputs": [
    {
     "data": {
      "text/plain": [
       "Siblings\n",
       "1.0                                             16186\n",
       "2.0                                             13062\n",
       "3.0                                              6734\n",
       "1                                                6054\n",
       "4.0                                              4611\n",
       "2                                                3938\n",
       "0.0                                              3701\n",
       "5.0                                              3421\n",
       "3                                                2087\n",
       "0                                                1381\n",
       "4                                                 998\n",
       "5                                                 715\n",
       "6.0                                               206\n",
       "7.0                                               159\n",
       "6                                                 135\n",
       "10.0                                              127\n",
       "7                                                 119\n",
       "8.0                                                98\n",
       "9.0                                                79\n",
       "8                                                  75\n",
       "9                                                  43\n",
       "10                                                 42\n",
       "11                                                 12\n",
       "12                                                  5\n",
       "13                                                  2\n",
       "14                                                  1\n",
       "18                                                  1\n",
       "Kardeş Sayısı 1 Ek Bilgi Aile Hk. Anne Vefat        1\n",
       "Name: count, dtype: int64"
      ]
     },
     "execution_count": 43,
     "metadata": {},
     "output_type": "execute_result"
    }
   ],
   "source": [
    "data.Siblings.value_counts()"
   ]
  },
  {
   "cell_type": "code",
   "execution_count": 44,
   "metadata": {},
   "outputs": [
    {
     "data": {
      "text/plain": [
       "np.int64(1132)"
      ]
     },
     "execution_count": 44,
     "metadata": {},
     "output_type": "execute_result"
    }
   ],
   "source": [
    "data.Siblings.isna().sum()"
   ]
  },
  {
   "cell_type": "code",
   "execution_count": 45,
   "metadata": {},
   "outputs": [],
   "source": [
    "data.Siblings = data.Siblings.apply(lambda x: int(x) if str(x).isdigit() else 0)"
   ]
  },
  {
   "cell_type": "code",
   "execution_count": 46,
   "metadata": {},
   "outputs": [
    {
     "data": {
      "text/plain": [
       "Siblings\n",
       "0     50898\n",
       "1      6054\n",
       "2      3938\n",
       "3      2087\n",
       "4       998\n",
       "5       715\n",
       "6       135\n",
       "7       119\n",
       "8        75\n",
       "9        43\n",
       "10       42\n",
       "11       12\n",
       "12        5\n",
       "13        2\n",
       "18        1\n",
       "14        1\n",
       "Name: count, dtype: int64"
      ]
     },
     "execution_count": 46,
     "metadata": {},
     "output_type": "execute_result"
    }
   ],
   "source": [
    "data.Siblings.value_counts()"
   ]
  },
  {
   "cell_type": "code",
   "execution_count": 47,
   "metadata": {},
   "outputs": [],
   "source": [
    "data.rename(columns={\"Baba Calisma Durumu\": \"Father_Job\"}, inplace=True)"
   ]
  },
  {
   "cell_type": "code",
   "execution_count": 48,
   "metadata": {},
   "outputs": [
    {
     "data": {
      "text/plain": [
       "Father_Job\n",
       "Evet      28559\n",
       "Hayır     12486\n",
       "Emekli    11462\n",
       "Name: count, dtype: int64"
      ]
     },
     "execution_count": 48,
     "metadata": {},
     "output_type": "execute_result"
    }
   ],
   "source": [
    "data.Father_Job.value_counts()"
   ]
  },
  {
   "cell_type": "code",
   "execution_count": 49,
   "metadata": {},
   "outputs": [],
   "source": [
    "#buraya one-hot encoding uygulayabiliriz"
   ]
  },
  {
   "cell_type": "code",
   "execution_count": 50,
   "metadata": {},
   "outputs": [],
   "source": [
    "data.rename(columns={\"Anne Calisma Durumu\": \"Mother_Job\"}, inplace=True)"
   ]
  },
  {
   "cell_type": "code",
   "execution_count": 51,
   "metadata": {},
   "outputs": [
    {
     "data": {
      "text/plain": [
       "Mother_Job\n",
       "Hayır     39371\n",
       "Evet      10504\n",
       "Emekli     3354\n",
       "Name: count, dtype: int64"
      ]
     },
     "execution_count": 51,
     "metadata": {},
     "output_type": "execute_result"
    }
   ],
   "source": [
    "data.Mother_Job.value_counts()"
   ]
  },
  {
   "cell_type": "code",
   "execution_count": 52,
   "metadata": {},
   "outputs": [],
   "source": [
    "data.rename(columns={\"Baba Sektor\": \"Father_Sector\"}, inplace=True)"
   ]
  },
  {
   "cell_type": "code",
   "execution_count": 55,
   "metadata": {},
   "outputs": [
    {
     "data": {
      "text/plain": [
       "Father_Sector\n",
       "-              23448\n",
       "Özel Sektör    11293\n",
       "Kamu            7457\n",
       "Diğer           6717\n",
       "0               6631\n",
       "ÖZEL SEKTÖR     4320\n",
       "KAMU            2862\n",
       "DİĞER           2397\n",
       "Name: count, dtype: int64"
      ]
     },
     "execution_count": 55,
     "metadata": {},
     "output_type": "execute_result"
    }
   ],
   "source": [
    "data.Father_Sector.fillna(\"-\", inplace=True)\n",
    "data.Father_Sector.value_counts()"
   ]
  },
  {
   "cell_type": "code",
   "execution_count": 56,
   "metadata": {},
   "outputs": [],
   "source": [
    "def fix_parent_sector(x):\n",
    "    if x in ['0', '-', 'nan']:\n",
    "        return '-'\n",
    "    return fix_unicodedata(x)"
   ]
  },
  {
   "cell_type": "code",
   "execution_count": 57,
   "metadata": {},
   "outputs": [
    {
     "data": {
      "text/plain": [
       "Father_Sector\n",
       "-              30079\n",
       "ozel sektor    15613\n",
       "kamu           10319\n",
       "diger           9114\n",
       "Name: count, dtype: int64"
      ]
     },
     "execution_count": 57,
     "metadata": {},
     "output_type": "execute_result"
    }
   ],
   "source": [
    "data.Father_Sector = data.Father_Sector.apply(fix_parent_sector)\n",
    "data.Father_Sector.value_counts()"
   ]
  },
  {
   "cell_type": "code",
   "execution_count": 58,
   "metadata": {},
   "outputs": [],
   "source": [
    "data.rename(columns={\"Anne Sektor\": \"Mother_Sector\"}, inplace=True)"
   ]
  },
  {
   "cell_type": "code",
   "execution_count": 59,
   "metadata": {},
   "outputs": [
    {
     "data": {
      "text/plain": [
       "Mother_Sector\n",
       "0              11780\n",
       "-               5827\n",
       "Özel Sektör     4425\n",
       "Kamu            3805\n",
       "ÖZEL SEKTÖR     1617\n",
       "KAMU            1344\n",
       "Diğer           1333\n",
       "DİĞER            457\n",
       "Name: count, dtype: int64"
      ]
     },
     "execution_count": 59,
     "metadata": {},
     "output_type": "execute_result"
    }
   ],
   "source": [
    "data.Mother_Sector.value_counts()"
   ]
  },
  {
   "cell_type": "code",
   "execution_count": 60,
   "metadata": {},
   "outputs": [],
   "source": [
    "data.Mother_Sector[data.Mother_Sector.isna()] = \"-\""
   ]
  },
  {
   "cell_type": "code",
   "execution_count": 61,
   "metadata": {},
   "outputs": [
    {
     "data": {
      "text/plain": [
       "Mother_Sector\n",
       "-              40364\n",
       "0              11780\n",
       "Özel Sektör     4425\n",
       "Kamu            3805\n",
       "ÖZEL SEKTÖR     1617\n",
       "KAMU            1344\n",
       "Diğer           1333\n",
       "DİĞER            457\n",
       "Name: count, dtype: int64"
      ]
     },
     "execution_count": 61,
     "metadata": {},
     "output_type": "execute_result"
    }
   ],
   "source": [
    "data.Mother_Sector.value_counts()"
   ]
  },
  {
   "cell_type": "code",
   "execution_count": 62,
   "metadata": {},
   "outputs": [
    {
     "data": {
      "text/plain": [
       "Mother_Sector\n",
       "-              52144\n",
       "ozel sektor     6042\n",
       "kamu            5149\n",
       "diger           1790\n",
       "Name: count, dtype: int64"
      ]
     },
     "execution_count": 62,
     "metadata": {},
     "output_type": "execute_result"
    }
   ],
   "source": [
    "data.Mother_Sector = data.Mother_Sector.apply(fix_parent_sector)\n",
    "data.Mother_Sector.value_counts()"
   ]
  },
  {
   "cell_type": "code",
   "execution_count": 63,
   "metadata": {},
   "outputs": [
    {
     "data": {
      "text/plain": [
       "Entrepreneur_Experience\n",
       "0    46759\n",
       "1    18366\n",
       "Name: count, dtype: int64"
      ]
     },
     "execution_count": 63,
     "metadata": {},
     "output_type": "execute_result"
    }
   ],
   "source": [
    "data.Entrepreneur_Experience.value_counts()"
   ]
  },
  {
   "cell_type": "code",
   "execution_count": 64,
   "metadata": {},
   "outputs": [],
   "source": [
    "data['Entrepreneur_Experience_Description'] = data_['Girisimcilikle Ilgili Deneyiminizi Aciklayabilir misiniz?']"
   ]
  },
  {
   "cell_type": "code",
   "execution_count": 65,
   "metadata": {},
   "outputs": [
    {
     "data": {
      "text/plain": [
       "Entrepreneur_Experience_Description\n",
       "-                                                                                                                                                                                        5196\n",
       "Ticaret                                                                                                                                                                                    13\n",
       "E ticaret                                                                                                                                                                                   9\n",
       "Borsa                                                                                                                                                                                       8\n",
       "B                                                                                                                                                                                           8\n",
       "                                                                                                                                                                                         ... \n",
       "Suanda restoran işletiyorum. KOSGEB eğitimlerine katıldım fakat destek almadım.                                                                                                             1\n",
       "İnternet projeleri ve mobil projeler oldukça ilgimi çekmektedir. Kendi fikirlerimi hayata geçirdim.                                                                                         1\n",
       "1-Girisimcilik100 2-intelagenda.com 3-Haberchina                                                                                                                                            1\n",
       "45. TUBİTAK MALATYA BÖLGE YARIŞMASI                                                                                                                                                         1\n",
       "Aile desteğiyle yemek sektöründe küçük bir işletme açtık. Ablamla birlikte işletmenin yönetimini sağladık fakat ekonomik sebeplerden dolayı işletmeyi kapatmak mecburiyetinde kaldık.       1\n",
       "Name: count, Length: 9286, dtype: int64"
      ]
     },
     "execution_count": 65,
     "metadata": {},
     "output_type": "execute_result"
    }
   ],
   "source": [
    "data.Entrepreneur_Experience_Description.value_counts()"
   ]
  },
  {
   "cell_type": "code",
   "execution_count": 66,
   "metadata": {},
   "outputs": [],
   "source": [
    "def check_experience(x):\n",
    "    if x == np.nan or str(x) == \"-\":\n",
    "        return 0\n",
    "    if len(str(x).lower().strip()) == 0:\n",
    "        return 0\n",
    "    return 1"
   ]
  },
  {
   "cell_type": "code",
   "execution_count": 67,
   "metadata": {},
   "outputs": [],
   "source": [
    "data.loc[data.Entrepreneur_Experience == 1, 'Entrepreneur_Experience'] = data.loc[data.Entrepreneur_Experience == 1, 'Entrepreneur_Experience_Description'].apply(check_experience)"
   ]
  },
  {
   "cell_type": "code",
   "execution_count": 68,
   "metadata": {},
   "outputs": [
    {
     "data": {
      "text/plain": [
       "Entrepreneur_Experience\n",
       "0    46763\n",
       "1    18362\n",
       "Name: count, dtype: int64"
      ]
     },
     "execution_count": 68,
     "metadata": {},
     "output_type": "execute_result"
    }
   ],
   "source": [
    "data.Entrepreneur_Experience.value_counts()"
   ]
  },
  {
   "cell_type": "code",
   "execution_count": 69,
   "metadata": {},
   "outputs": [],
   "source": [
    "data.drop(columns=[\"Entrepreneur_Experience_Description\"], inplace=True)"
   ]
  },
  {
   "cell_type": "code",
   "execution_count": 70,
   "metadata": {},
   "outputs": [],
   "source": [
    "data.rename(columns={\"Anne Egitim Durumu\": \"Mother_Education\"}, inplace=True)"
   ]
  },
  {
   "cell_type": "code",
   "execution_count": 71,
   "metadata": {},
   "outputs": [
    {
     "data": {
      "text/plain": [
       "Mother_Education\n",
       "İlkokul                    10351\n",
       "Lise                        8467\n",
       "İlkokul Mezunu              8030\n",
       "İLKOKUL MEZUNU              7770\n",
       "Üniversite                  5502\n",
       "Eğitimi yok                 3605\n",
       "LİSE                        3582\n",
       "Ortaokul                    3126\n",
       "EĞİTİM YOK                  2600\n",
       "ÜNİVERSİTE                  2435\n",
       "Eğitim Yok                  2146\n",
       "Ortaokul Mezunu             2119\n",
       "ORTAOKUL MEZUNU             1788\n",
       "Lise Mezunu                 1346\n",
       "Üniversite Mezunu           1075\n",
       "Yüksek Lisans                274\n",
       "YÜKSEK LİSANS                153\n",
       "Yüksek Lisans / Doktora      123\n",
       "Yüksek Lisans / Doktara       85\n",
       "Doktora                       80\n",
       "DOKTORA                       62\n",
       "Name: count, dtype: int64"
      ]
     },
     "execution_count": 71,
     "metadata": {},
     "output_type": "execute_result"
    }
   ],
   "source": [
    "data.Mother_Education.value_counts()"
   ]
  },
  {
   "cell_type": "code",
   "execution_count": 72,
   "metadata": {},
   "outputs": [],
   "source": [
    "data.Mother_Education.fillna(\"-\", inplace=True)"
   ]
  },
  {
   "cell_type": "code",
   "execution_count": 73,
   "metadata": {},
   "outputs": [
    {
     "data": {
      "text/plain": [
       "Mother_Education\n",
       "ilkokul       26151\n",
       "lise          13395\n",
       "universite     9012\n",
       "-              8757\n",
       "ortaokul       7033\n",
       "yuksek          427\n",
       "doktora         350\n",
       "Name: count, dtype: int64"
      ]
     },
     "execution_count": 73,
     "metadata": {},
     "output_type": "execute_result"
    }
   ],
   "source": [
    "def fix_parent_education(x):\n",
    "    x = str(x)\n",
    "    if x == np.nan:\n",
    "        return '-'\n",
    "    if x.lower().strip() in ['0', '-', 'nan']:\n",
    "        return '-'\n",
    "\n",
    "    if \"/\" in x:\n",
    "        x = x.split(\"/\")[1].strip()\n",
    "    if \"yok\" in x.lower().strip():\n",
    "        return '-'\n",
    "    if \"doktara\" in x.lower().strip():\n",
    "        x = \"doktora\"\n",
    "    x = x.split()[0].strip()\n",
    "    \n",
    "    return fix_unicodedata(x)\n",
    "\n",
    "data.Mother_Education = data.Mother_Education.apply(fix_parent_education)\n",
    "data.Mother_Education.value_counts()\n"
   ]
  },
  {
   "cell_type": "code",
   "execution_count": 74,
   "metadata": {},
   "outputs": [],
   "source": [
    "data.rename(columns={\"Baba Egitim Durumu\": \"Father_Education\"}, inplace=True)"
   ]
  },
  {
   "cell_type": "code",
   "execution_count": 75,
   "metadata": {},
   "outputs": [
    {
     "data": {
      "text/plain": [
       "Father_Education\n",
       "Lise                       10008\n",
       "Üniversite                  9149\n",
       "İlkokul                     8257\n",
       "İLKOKUL MEZUNU              5784\n",
       "İlkokul Mezunu              5389\n",
       "LİSE                        4482\n",
       "ÜNİVERSİTE                  4258\n",
       "Ortaokul                    4109\n",
       "Ortaokul Mezunu             2540\n",
       "ORTAOKUL MEZUNU             2531\n",
       "Üniversite Mezunu           1731\n",
       "Lise Mezunu                 1405\n",
       "Eğitimi yok                 1102\n",
       "EĞİTİM YOK                   811\n",
       "Yüksek Lisans                596\n",
       "Eğitim Yok                   585\n",
       "YÜKSEK LİSANS                367\n",
       "Yüksek Lisans / Doktora      289\n",
       "Doktora                      222\n",
       "Yüksek Lisans / Doktara      215\n",
       "DOKTORA                      177\n",
       "0                            111\n",
       "Name: count, dtype: int64"
      ]
     },
     "execution_count": 75,
     "metadata": {},
     "output_type": "execute_result"
    }
   ],
   "source": [
    "data.Father_Education.value_counts()"
   ]
  },
  {
   "cell_type": "code",
   "execution_count": 76,
   "metadata": {},
   "outputs": [
    {
     "data": {
      "text/plain": [
       "Father_Education\n",
       "ilkokul       19430\n",
       "lise          15895\n",
       "universite    15138\n",
       "ortaokul       9180\n",
       "-              3616\n",
       "yuksek          963\n",
       "doktora         903\n",
       "Name: count, dtype: int64"
      ]
     },
     "execution_count": 76,
     "metadata": {},
     "output_type": "execute_result"
    }
   ],
   "source": [
    "data.Father_Education = data.Father_Education.apply(fix_parent_education)\n",
    "data.Father_Education.value_counts()"
   ]
  },
  {
   "cell_type": "code",
   "execution_count": 77,
   "metadata": {},
   "outputs": [],
   "source": [
    "data.rename(columns={\"Baska Bir Kurumdan Burs Aliyor mu?\": \"Scholarship_From_Other_Institution\"}, inplace=True)"
   ]
  },
  {
   "cell_type": "code",
   "execution_count": 78,
   "metadata": {},
   "outputs": [
    {
     "data": {
      "text/plain": [
       "Scholarship_From_Other_Institution\n",
       "Hayır    48513\n",
       "Evet     16381\n",
       "Name: count, dtype: int64"
      ]
     },
     "execution_count": 78,
     "metadata": {},
     "output_type": "execute_result"
    }
   ],
   "source": [
    "data.Scholarship_From_Other_Institution.value_counts()"
   ]
  },
  {
   "cell_type": "code",
   "execution_count": 79,
   "metadata": {},
   "outputs": [],
   "source": [
    "data.Scholarship_From_Other_Institution.fillna(0, inplace=True)"
   ]
  },
  {
   "cell_type": "code",
   "execution_count": 80,
   "metadata": {},
   "outputs": [],
   "source": [
    "data.Scholarship_From_Other_Institution = data.Scholarship_From_Other_Institution.map(lambda x: 1 if x == \"Evet\" else 0)"
   ]
  },
  {
   "cell_type": "code",
   "execution_count": 81,
   "metadata": {},
   "outputs": [
    {
     "data": {
      "text/plain": [
       "Scholarship_From_Other_Institution\n",
       "0    48744\n",
       "1    16381\n",
       "Name: count, dtype: int64"
      ]
     },
     "execution_count": 81,
     "metadata": {},
     "output_type": "execute_result"
    }
   ],
   "source": [
    "data.Scholarship_From_Other_Institution.value_counts()"
   ]
  },
  {
   "cell_type": "code",
   "execution_count": 82,
   "metadata": {},
   "outputs": [],
   "source": [
    "data.rename(columns={\"Burs Aldigi Baska Kurum\": \"Scholarship_From_Other_Institution_Name\"}, inplace=True)"
   ]
  },
  {
   "cell_type": "code",
   "execution_count": 83,
   "metadata": {},
   "outputs": [
    {
     "data": {
      "text/plain": [
       "np.int64(43977)"
      ]
     },
     "execution_count": 83,
     "metadata": {},
     "output_type": "execute_result"
    }
   ],
   "source": [
    "data.Scholarship_From_Other_Institution_Name.isna().sum()"
   ]
  },
  {
   "cell_type": "code",
   "execution_count": 84,
   "metadata": {},
   "outputs": [],
   "source": [
    "data.Scholarship_From_Other_Institution_Name.fillna(\"-\", inplace=True)"
   ]
  },
  {
   "cell_type": "code",
   "execution_count": 85,
   "metadata": {},
   "outputs": [
    {
     "data": {
      "text/plain": [
       "Scholarship_From_Other_Institution_Name\n",
       "devlet                                    59\n",
       "KREDİ YURTLAR KURUMU                      57\n",
       "kyk bursu                                 55\n",
       "Kredi ve Yurtlar Genel Müdürlüğü          51\n",
       "Ky                                        47\n",
       "KYK BURSU                                 46\n",
       "Gençlik ve Spor Bakanlığı                 45\n",
       "Kyk kredi                                 45\n",
       "Bilkent Üniversitesi                      41\n",
       "Mehmet Zorlu Vakfı                        39\n",
       "TÜBİTAK                                   38\n",
       "Yüksek Öğrenim Kredi ve Yurtlar Kurumu    37\n",
       "Koç Üniversitesi                          37\n",
       "Sabancı Vakfı                             36\n",
       "Kyk devlet bursu                          36\n",
       "Anadolu Vakfı                             36\n",
       "Başbakanlık                               34\n",
       "Kyk bursu alıyorum                        33\n",
       "KY                                        33\n",
       "Toplum Gönüllüleri Vakfı                  31\n",
       "Name: count, dtype: int64"
      ]
     },
     "execution_count": 85,
     "metadata": {},
     "output_type": "execute_result"
    }
   ],
   "source": [
    "data.Scholarship_From_Other_Institution_Name.value_counts()[20:40]"
   ]
  },
  {
   "cell_type": "code",
   "execution_count": 86,
   "metadata": {},
   "outputs": [],
   "source": [
    "data.drop(columns=[\"Scholarship_From_Other_Institution_Name\"], inplace=True)"
   ]
  },
  {
   "cell_type": "code",
   "execution_count": 87,
   "metadata": {},
   "outputs": [],
   "source": [
    "data.rename(columns={\"Baska Kurumdan Aldigi Burs Miktari\": \"Scholarship_From_Other_Institution_Amount\"}, inplace=True)"
   ]
  },
  {
   "cell_type": "code",
   "execution_count": 88,
   "metadata": {},
   "outputs": [],
   "source": [
    "data.Scholarship_From_Other_Institution_Amount.fillna(\"-\", inplace=True)"
   ]
  },
  {
   "cell_type": "code",
   "execution_count": 89,
   "metadata": {},
   "outputs": [
    {
     "data": {
      "text/plain": [
       "Scholarship_From_Other_Institution_Amount\n",
       "-               48886\n",
       "500 ve üzeri     4513\n",
       "500₺ - 999₺      2448\n",
       "500              1966\n",
       "425              1344\n",
       "400               931\n",
       "300-500           920\n",
       "300               395\n",
       "Diğer             275\n",
       "200               240\n",
       "Name: count, dtype: int64"
      ]
     },
     "execution_count": 89,
     "metadata": {},
     "output_type": "execute_result"
    }
   ],
   "source": [
    "data.Scholarship_From_Other_Institution_Amount.value_counts()[:10]"
   ]
  },
  {
   "cell_type": "code",
   "execution_count": 90,
   "metadata": {},
   "outputs": [],
   "source": [
    "data.drop(columns=[\"Scholarship_From_Other_Institution_Amount\"], inplace=True)"
   ]
  },
  {
   "cell_type": "code",
   "execution_count": 91,
   "metadata": {},
   "outputs": [],
   "source": [
    "data['Daha Önceden Mezun Olunduysa, Mezun Olunan Üniversite'].fillna(\"-\", inplace=True)"
   ]
  },
  {
   "cell_type": "code",
   "execution_count": 92,
   "metadata": {},
   "outputs": [
    {
     "data": {
      "text/plain": [
       "Daha Önceden Mezun Olunduysa, Mezun Olunan Üniversite\n",
       "-                           64706\n",
       "Anadolu Üniversitesi           26\n",
       "ANADOLU ÜNİVERSİTESİ           19\n",
       "MARMARA ÜNİVERSİTESİ           11\n",
       "İSTANBUL ÜNİVERSİTESİ           8\n",
       "SELÇUK ÜNİVERSİTESİ             7\n",
       "ATATÜRK ÜNİVERSİTESİ            7\n",
       "EGE ÜNİVERSİTESİ                7\n",
       "KOCAELİ ÜNİVERSİTESİ            7\n",
       "ULUDAĞ ÜNİVERSİTESİ             6\n",
       "Kocaeli Üniversitesi            6\n",
       "Dokuz Eylül Üniversitesi        6\n",
       "İstanbul Üniversitesi           6\n",
       "Diğer                           6\n",
       "AKDENİZ ÜNİVERSİTESİ            6\n",
       "Name: count, dtype: int64"
      ]
     },
     "execution_count": 92,
     "metadata": {},
     "output_type": "execute_result"
    }
   ],
   "source": [
    "data['Daha Önceden Mezun Olunduysa, Mezun Olunan Üniversite'].value_counts()[:15]"
   ]
  },
  {
   "cell_type": "code",
   "execution_count": 93,
   "metadata": {},
   "outputs": [],
   "source": [
    "data.drop(columns=[\"Daha Önceden Mezun Olunduysa, Mezun Olunan Üniversite\"], inplace=True)"
   ]
  },
  {
   "cell_type": "code",
   "execution_count": 95,
   "metadata": {},
   "outputs": [
    {
     "name": "stdout",
     "output_type": "stream",
     "text": [
      "Lise Bolum Diger                                 97.656814\n",
      "Lise Adi Diger                                   92.732438\n",
      "Burslu ise Burs Yuzdesi                          65.543186\n",
      "Daha Once Baska Bir Universiteden Mezun Olmus    57.343570\n",
      "Father_Job                                       19.375048\n",
      "Mother_Job                                       18.266411\n",
      "Lise Mezuniyet Notu                               9.085605\n",
      "Universite Not Ortalamasi                         4.227255\n",
      "Ikametgah Sehri                                   3.127831\n",
      "Lise Sehir                                        1.618426\n",
      "Lise Bolumu                                       1.549328\n",
      "Lise Turu                                         1.300576\n",
      "Dogum Yeri                                        1.214587\n",
      "Lise Adi                                          0.589635\n",
      "Universite Kacinci Sinif                          0.574280\n",
      "Universite Turu                                   0.391555\n",
      "Bölüm                                             0.354702\n",
      "Dogum Tarihi                                      0.271785\n",
      "Cinsiyet                                          0.259501\n",
      "Universite Adi                                    0.202687\n",
      "Degerlendirme Puani                               0.001536\n",
      "dtype: float64\n"
     ]
    }
   ],
   "source": [
    "missing_datar = data.isnull().sum() / len(data) * 100\n",
    "print(missing_datar[missing_datar > 0].sort_values(ascending=False))"
   ]
  },
  {
   "cell_type": "code",
   "execution_count": 96,
   "metadata": {},
   "outputs": [],
   "source": [
    "data.drop(columns=[\"Lise Bolum Diger\"], inplace=True)\n",
    "data.drop(columns=[\"Lise Adi Diger\"], inplace=True)"
   ]
  },
  {
   "cell_type": "code",
   "execution_count": 97,
   "metadata": {},
   "outputs": [],
   "source": [
    "data.rename(columns={\"Lise Mezuniyet Notu\": \"Lise_Graduation_Score\"}, inplace=True)"
   ]
  },
  {
   "cell_type": "code",
   "execution_count": 98,
   "metadata": {},
   "outputs": [
    {
     "data": {
      "text/plain": [
       "Lise_Graduation_Score\n",
       "75 - 100              22433\n",
       "84-70                  9141\n",
       "100-85                 6967\n",
       "-                      5917\n",
       "4.00-3.50              3689\n",
       "50 - 75                3115\n",
       "3.00 - 4.00            3101\n",
       "3.50-3.00              2759\n",
       "3.50-3                 2330\n",
       "69-55                  2162\n",
       "3.00-2.50              2153\n",
       "50 - 74                1007\n",
       "2.50 ve altı            226\n",
       "54-45                    88\n",
       "25 - 50                  14\n",
       "Not ortalaması yok       11\n",
       "44-0                      6\n",
       "0 - 25                    3\n",
       "25 - 49                   2\n",
       "0 - 24                    1\n",
       "Name: count, dtype: int64"
      ]
     },
     "execution_count": 98,
     "metadata": {},
     "output_type": "execute_result"
    }
   ],
   "source": [
    "data.Lise_Graduation_Score.fillna(\"-\", inplace=True)\n",
    "data.Lise_Graduation_Score.value_counts()"
   ]
  },
  {
   "cell_type": "code",
   "execution_count": 99,
   "metadata": {},
   "outputs": [
    {
     "data": {
      "text/plain": [
       "Lise_Graduation_Score\n",
       "3    50420\n",
       "2     8437\n",
       "0     5932\n",
       "1      336\n",
       "Name: count, dtype: int64"
      ]
     },
     "execution_count": 99,
     "metadata": {},
     "output_type": "execute_result"
    }
   ],
   "source": [
    "lise_graduation_score_mapping = {\n",
    "    '0': 0,\n",
    "    '1': 1,\n",
    "    '2': 2,\n",
    "    '3': 3,\n",
    "    '0 - 24': 0,\n",
    "    '0 - 25': 0,\n",
    "    '25 - 49': 1,\n",
    "    '25 - 50': 1,\n",
    "    '54-45': 1,\n",
    "    '2.50 ve altı': 1,\n",
    "    '44-0': 1,\n",
    "    '50 - 74': 2,\n",
    "    '3.00-2.50': 2,\n",
    "    '69-55': 2,\n",
    "    '50 - 75': 2,\n",
    "    '3.50-3': 3,\n",
    "    '3.50-3.00': 3,\n",
    "    '3.00 - 4.00': 3,\n",
    "    '4.00-3.50': 3,\n",
    "    '100-85': 3,\n",
    "    '84-70': 3,\n",
    "    '75 - 100': 3,\n",
    "}\n",
    "\n",
    "def fix_lise_graduation_score(x):\n",
    "    if str(x) in lise_graduation_score_mapping:\n",
    "        return lise_graduation_score_mapping[str(x)]\n",
    "    return 0\n",
    "\n",
    "data.Lise_Graduation_Score = data.Lise_Graduation_Score.apply(fix_lise_graduation_score)\n",
    "data.Lise_Graduation_Score.value_counts()"
   ]
  },
  {
   "cell_type": "code",
   "execution_count": 100,
   "metadata": {},
   "outputs": [],
   "source": [
    "data.rename(columns={\"Lise Bolumu\": \"Lise_Department\"}, inplace=True)"
   ]
  },
  {
   "cell_type": "code",
   "execution_count": 101,
   "metadata": {},
   "outputs": [
    {
     "data": {
      "text/plain": [
       "Lise_Department\n",
       "FEN BİLİMLERİ            106\n",
       "Eşit ağırlık             104\n",
       "EŞİT AĞIRLIK              91\n",
       "Matematik-Fen             80\n",
       "fen bilimleri             76\n",
       "Tm                        76\n",
       "Bilişim Teknolojileri     75\n",
       "fen                       75\n",
       "sayisal                   71\n",
       "Türkçe Matematik          61\n",
       "TÜRKÇE-MATEMATİK          59\n",
       "Fen bilimleri             48\n",
       "mf                        48\n",
       "türkçe-matematik          46\n",
       "FEN                       45\n",
       "türkçe matematik          44\n",
       "sözel                     44\n",
       "Sayisal                   40\n",
       "EA                        31\n",
       "TÜRKÇE MATEMATİK          27\n",
       "Name: count, dtype: int64"
      ]
     },
     "execution_count": 101,
     "metadata": {},
     "output_type": "execute_result"
    }
   ],
   "source": [
    "data.Lise_Department.fillna(\"-\", inplace=True)\n",
    "data.Lise_Department.value_counts()[20:40]"
   ]
  },
  {
   "cell_type": "code",
   "execution_count": 102,
   "metadata": {},
   "outputs": [
    {
     "data": {
      "text/plain": [
       "Lise_Department\n",
       "SAYISAL    34814\n",
       "ESIT       21280\n",
       "-           4945\n",
       "SOZEL       4086\n",
       "Name: count, dtype: int64"
      ]
     },
     "execution_count": 102,
     "metadata": {},
     "output_type": "execute_result"
    }
   ],
   "source": [
    "lise_department_esit = [\n",
    "    'Eşit Ağırlık', 'EŞİT AĞIRLIK TÜRKÇE-MATEMATİK ALANI', 'TM', 'eşit ağırlık', 'tm', 'Türkçe-Matematik',\n",
    "    'Eşit ağırlık', 'EŞİT AĞIRLIK', 'Tm', 'Türkçe Matematik', 'TÜRKÇE-MATEMATİK', 'türkçe-matematik',\n",
    "    'türkçe matematik', 'EA', 'TÜRKÇE MATEMATİK'\n",
    "]\n",
    "\n",
    "\n",
    "lise_department_sozel = ['SOZEL', 'Sözel', 'SOSYAL ALANI', 'sözel']\n",
    "    \n",
    "\n",
    "lise_department_sayisal = [\n",
    "    'SAYISAL', 'Sayısal', 'FEN SAYISAL BİLİMLERİ ALANI', 'sayısal', 'Fen Bilimleri', 'MF', 'Fen', \n",
    "    'FEN BİLİMLERİ', 'Matematik-Fen', 'fen bilimleri', 'Bilişim Teknolojileri', 'fen', 'sayisal',\n",
    "    'Fen bilimleri', 'mf', 'FEN', 'Sayisal', 'ESIT'\n",
    "]\n",
    "\n",
    "\n",
    "def fix_lise_department(x):\n",
    "    x = str(x).strip()\n",
    "    if x in lise_department_sayisal:\n",
    "        return 'SAYISAL'\n",
    "    if x in lise_department_sozel:\n",
    "        return 'SOZEL'\n",
    "    if x in lise_department_esit:\n",
    "        return 'ESIT'\n",
    "    return '-'\n",
    "\n",
    "data.Lise_Department = data.Lise_Department.apply(fix_lise_department)\n",
    "data.Lise_Department.value_counts()"
   ]
  },
  {
   "cell_type": "code",
   "execution_count": 103,
   "metadata": {},
   "outputs": [],
   "source": [
    "data.Lise_Department = data.Lise_Department.map(lambda x: 'DIGER' if x == '-' else x)"
   ]
  },
  {
   "cell_type": "code",
   "execution_count": 104,
   "metadata": {},
   "outputs": [
    {
     "data": {
      "text/plain": [
       "Lise_Department\n",
       "SAYISAL    34814\n",
       "ESIT       21280\n",
       "DIGER       4945\n",
       "SOZEL       4086\n",
       "Name: count, dtype: int64"
      ]
     },
     "execution_count": 104,
     "metadata": {},
     "output_type": "execute_result"
    }
   ],
   "source": [
    "data.Lise_Department.value_counts()"
   ]
  },
  {
   "cell_type": "code",
   "execution_count": 105,
   "metadata": {},
   "outputs": [
    {
     "data": {
      "text/plain": [
       "Index(['Basvuru Yili', 'Degerlendirme Puani', 'Cinsiyet', 'Dogum Tarihi',\n",
       "       'Dogum Yeri', 'Ikametgah Sehri', 'Universite Adi', 'Universite Turu',\n",
       "       'Burslu ise Burs Yuzdesi', 'Burs Aliyor mu?', 'Bölüm',\n",
       "       'Universite Kacinci Sinif', 'Universite Not Ortalamasi',\n",
       "       'Daha Once Baska Bir Universiteden Mezun Olmus', 'Lise Adi',\n",
       "       'Lise Sehir', 'Lise Turu', 'Lise_Department', 'Lise_Graduation_Score',\n",
       "       'Scholarship_From_Other_Institution', 'Mother_Education', 'Mother_Job',\n",
       "       'Mother_Sector', 'Father_Education', 'Father_Job', 'Father_Sector',\n",
       "       'Siblings', 'Startup_Club_Member', 'Sports_Professional', 'STK_Member',\n",
       "       'STK_Project_Attendee', 'Entrepreneur_Experience', 'English_Knowledge',\n",
       "       'English_Level'],\n",
       "      dtype='object')"
      ]
     },
     "execution_count": 105,
     "metadata": {},
     "output_type": "execute_result"
    }
   ],
   "source": [
    "data.columns"
   ]
  },
  {
   "cell_type": "code",
   "execution_count": 106,
   "metadata": {},
   "outputs": [],
   "source": [
    "data.rename(columns={\"Lise Turu\": \"Lise_Type\"}, inplace=True)"
   ]
  },
  {
   "cell_type": "code",
   "execution_count": 107,
   "metadata": {},
   "outputs": [
    {
     "data": {
      "text/plain": [
       "Lise_Type\n",
       "Anadolu Lisesi       13367\n",
       "Diğer                13184\n",
       "Anadolu lisesi        7002\n",
       "Devlet                6204\n",
       "Özel                  4746\n",
       "Düz lise              4179\n",
       "Meslek lisesi         3666\n",
       "Düz Lise              2789\n",
       "Meslek                2454\n",
       "Fen Lisesi            2159\n",
       "Özel Lisesi           1474\n",
       "İmam Hatip Lisesi     1158\n",
       "-                      847\n",
       "Fen lisesi             660\n",
       "Özel lisesi            489\n",
       "Meslek Lisesi          415\n",
       "Özel Lise              332\n",
       "Name: count, dtype: int64"
      ]
     },
     "execution_count": 107,
     "metadata": {},
     "output_type": "execute_result"
    }
   ],
   "source": [
    "data.Lise_Type.fillna(\"-\", inplace=True)\n",
    "data.Lise_Type.value_counts()"
   ]
  },
  {
   "cell_type": "code",
   "execution_count": 108,
   "metadata": {},
   "outputs": [
    {
     "data": {
      "text/plain": [
       "Lise_Type\n",
       "ANADOLU    33541\n",
       "DIGER      15189\n",
       "OZEL        7041\n",
       "MESLEK      6535\n",
       "FEN         2819\n",
       "Name: count, dtype: int64"
      ]
     },
     "execution_count": 108,
     "metadata": {},
     "output_type": "execute_result"
    }
   ],
   "source": [
    "def fix_lise_type(x):\n",
    "    x = str(x).strip()\n",
    "\n",
    "    if x in ['Anadolu Lisesi', 'Anadolu lisesi', 'Devlet', 'Düz lise', 'Düz Lise', 'ANADOLU']:\n",
    "        return 'ANADOLU'\n",
    "    if x in ['Fen Lisesi', 'Fen lisesi', 'FEN']:\n",
    "        return 'FEN'\n",
    "    if x in ['Meslek lisesi', 'Meslek', 'Meslek Lisesi', 'MESLEK']:\n",
    "        return 'MESLEK'\n",
    "    if x in ['Özel Lisesi', 'Özel lisesi', 'Özel Lise', 'Özel', 'ÖZEL']:\n",
    "        return 'OZEL'\n",
    "    return 'DIGER'\n",
    "\n",
    "data.Lise_Type = data.Lise_Type.apply(fix_lise_type)\n",
    "data.Lise_Type.value_counts()"
   ]
  },
  {
   "cell_type": "code",
   "execution_count": 109,
   "metadata": {},
   "outputs": [],
   "source": [
    "data.rename(columns={\"Lise Sehir\": \"Lise_City\"}, inplace=True)"
   ]
  },
  {
   "cell_type": "code",
   "execution_count": 110,
   "metadata": {},
   "outputs": [
    {
     "data": {
      "text/plain": [
       "Lise_City\n",
       "İstanbul         8868\n",
       "Ankara           4940\n",
       "Istanbul         3933\n",
       "İzmir            2241\n",
       "Bursa            2240\n",
       "                 ... \n",
       "Çeşme/İzmir         1\n",
       "elazig              1\n",
       "Ayvalık             1\n",
       "BOYABAT/SİNOP       1\n",
       "Tursunzade          1\n",
       "Name: count, Length: 889, dtype: int64"
      ]
     },
     "execution_count": 110,
     "metadata": {},
     "output_type": "execute_result"
    }
   ],
   "source": [
    "data.Lise_City.fillna(\"-\", inplace=True)\n",
    "data.Lise_City.value_counts()"
   ]
  },
  {
   "cell_type": "code",
   "execution_count": 111,
   "metadata": {},
   "outputs": [],
   "source": [
    "data.drop(columns=[\"Lise_City\"], inplace=True)"
   ]
  },
  {
   "cell_type": "code",
   "execution_count": 112,
   "metadata": {},
   "outputs": [],
   "source": [
    "data.rename(columns={\"Lise Adi\": \"Lise_Name\"}, inplace=True)"
   ]
  },
  {
   "cell_type": "code",
   "execution_count": 113,
   "metadata": {},
   "outputs": [
    {
     "data": {
      "text/plain": [
       "Lise_Name\n",
       "------                                                                             4251\n",
       "-                                                                                   385\n",
       "Atatürk Lisesi                                                                      199\n",
       "Açık öğretim lisesi                                                                 161\n",
       "Açık Öğretim Lisesi                                                                 151\n",
       "                                                                                   ... \n",
       "Nişantaşı Işık Lisesi                                                                 1\n",
       "Tarsus atatürk lisesi                                                                 1\n",
       "Hüsniye Özdilek Ticaret ve İletişim Anadolu Lisesi (Radyo ve Televizyon Bölümü)       1\n",
       "Ses okulları                                                                          1\n",
       "Samsun Terme Karadeniz mesleki teknik Anadolu lisesi                                  1\n",
       "Name: count, Length: 31950, dtype: int64"
      ]
     },
     "execution_count": 113,
     "metadata": {},
     "output_type": "execute_result"
    }
   ],
   "source": [
    "data.Lise_Name.fillna(\"-\", inplace=True)\n",
    "data.Lise_Name.value_counts()"
   ]
  },
  {
   "cell_type": "code",
   "execution_count": 114,
   "metadata": {},
   "outputs": [],
   "source": [
    "data.drop(columns=[\"Lise_Name\"], inplace=True)"
   ]
  },
  {
   "cell_type": "code",
   "execution_count": 115,
   "metadata": {},
   "outputs": [],
   "source": [
    "data.rename(columns={\"Daha Once Baska Bir Universiteden Mezun Olmus\": \"Previous_University_Graduation\"}, inplace=True)"
   ]
  },
  {
   "cell_type": "code",
   "execution_count": 116,
   "metadata": {},
   "outputs": [
    {
     "data": {
      "text/plain": [
       "np.int64(37345)"
      ]
     },
     "execution_count": 116,
     "metadata": {},
     "output_type": "execute_result"
    }
   ],
   "source": [
    "data.Previous_University_Graduation.isna().sum()"
   ]
  },
  {
   "cell_type": "code",
   "execution_count": 117,
   "metadata": {},
   "outputs": [
    {
     "data": {
      "text/plain": [
       "Previous_University_Graduation\n",
       "Hayır    26624\n",
       "Evet      1156\n",
       "Name: count, dtype: int64"
      ]
     },
     "execution_count": 117,
     "metadata": {},
     "output_type": "execute_result"
    }
   ],
   "source": [
    "data.Previous_University_Graduation.value_counts()"
   ]
  },
  {
   "cell_type": "code",
   "execution_count": 118,
   "metadata": {},
   "outputs": [
    {
     "data": {
      "text/plain": [
       "Previous_University_Graduation\n",
       "0    63969\n",
       "1     1156\n",
       "Name: count, dtype: int64"
      ]
     },
     "execution_count": 118,
     "metadata": {},
     "output_type": "execute_result"
    }
   ],
   "source": [
    "data.Previous_University_Graduation = data.Previous_University_Graduation.map(lambda x: 1 if x == \"Evet\" else 0)\n",
    "data.Previous_University_Graduation.value_counts()"
   ]
  },
  {
   "cell_type": "code",
   "execution_count": 119,
   "metadata": {},
   "outputs": [],
   "source": [
    "data.rename(columns={\"Universite Not Ortalamasi\": \"University_Gano\"}, inplace=True)"
   ]
  },
  {
   "cell_type": "code",
   "execution_count": 120,
   "metadata": {},
   "outputs": [
    {
     "data": {
      "text/plain": [
       "University_Gano\n",
       "3.00-2.50              10758\n",
       "2.50 ve altı           10554\n",
       "3.00 - 3.50             7913\n",
       "3.50-3                  6179\n",
       "2.50 - 3.00             5782\n",
       "3.50 - 4.00             4462\n",
       "-                       2753\n",
       "2.00 - 2.50             2519\n",
       "2.50 - 2.99             2452\n",
       "ORTALAMA BULUNMUYOR     2399\n",
       "3.00 - 3.49             2382\n",
       "2.50 -3.00              1734\n",
       "3.00 - 4.00             1411\n",
       "1.80 - 2.49             1166\n",
       "Hazırlığım               668\n",
       "Not ortalaması yok       586\n",
       "4-3.5                    481\n",
       "Ortalama bulunmuyor      413\n",
       "1.00 - 2.50              327\n",
       "0 - 1.79                 185\n",
       "4.0-3.5                    1\n",
       "Name: count, dtype: int64"
      ]
     },
     "execution_count": 120,
     "metadata": {},
     "output_type": "execute_result"
    }
   ],
   "source": [
    "data.University_Gano.fillna(\"-\", inplace=True)\n",
    "data.University_Gano.value_counts()"
   ]
  },
  {
   "cell_type": "code",
   "execution_count": 121,
   "metadata": {},
   "outputs": [
    {
     "data": {
      "text/plain": [
       "University_Gano\n",
       "2    33799\n",
       "3    22829\n",
       "0     7004\n",
       "1     1493\n",
       "Name: count, dtype: int64"
      ]
     },
     "execution_count": 121,
     "metadata": {},
     "output_type": "execute_result"
    }
   ],
   "source": [
    "university_gano_mapping = {\n",
    "    '-': 0, 'ORTALAMA BULUNMUYOR': 0, 'Not ortalaması yok': 0, 'Hazırlığım': 0,'Ortalama bulunmuyor': 0,\n",
    "    \"0 - 1.79\": 0, \"1.00 - 2.50\": 1, \"1.80 - 2.49\": 1, \"2.50 ve altı\": 2, \"2.00 - 2.50\": 2,\n",
    "    \"3.00-2.50\": 2, \"2.50 -3.00\": 2, \"2.50 - 2.99\": 2, \"2.50 - 3.00\": 2, \"3.00 - 3.50\": 3,\n",
    "    \"3.00 - 4.00\": 3, \"3.00 - 3.49\": 3,\"3.50-3\": 3, \"4-3.5\": 3, \"4-3.5\": 3, \"3.50 - 4.00\": 3, \"4.0-3.5\": 3\n",
    "}\n",
    "\n",
    "data.University_Gano = data.University_Gano.apply(lambda x: university_gano_mapping.get(x, 0))\n",
    "data.University_Gano.value_counts()"
   ]
  },
  {
   "cell_type": "code",
   "execution_count": 122,
   "metadata": {},
   "outputs": [],
   "source": [
    "data.rename(columns={\"Universite Kacinci Sinif\": \"University_Class\"}, inplace=True)"
   ]
  },
  {
   "cell_type": "code",
   "execution_count": 123,
   "metadata": {},
   "outputs": [
    {
     "data": {
      "text/plain": [
       "University_Class\n",
       "2                21773\n",
       "3                16956\n",
       "4                13113\n",
       "1                10260\n",
       "Hazırlık          1275\n",
       "5                  961\n",
       "-                  374\n",
       "Mezun              178\n",
       "6                  177\n",
       "hazırlık            33\n",
       "Yüksek Lisans       15\n",
       "Tez                  7\n",
       "0                    3\n",
       "Name: count, dtype: int64"
      ]
     },
     "execution_count": 123,
     "metadata": {},
     "output_type": "execute_result"
    }
   ],
   "source": [
    "data.University_Class.fillna(\"-\", inplace=True)\n",
    "data.University_Class.value_counts()"
   ]
  },
  {
   "cell_type": "code",
   "execution_count": 124,
   "metadata": {},
   "outputs": [
    {
     "data": {
      "text/plain": [
       "University_Class\n",
       "2    21773\n",
       "3    16956\n",
       "4    13113\n",
       "1    10260\n",
       "0     1885\n",
       "5     1138\n",
       "Name: count, dtype: int64"
      ]
     },
     "execution_count": 124,
     "metadata": {},
     "output_type": "execute_result"
    }
   ],
   "source": [
    "university_class_mapping =  {'1': 1, '2': 2, '3': 3,'4': 4, '5': 5,'6':5,'yuksek lisans':7,'tez':7,'mezun':6,\"hazirlik\":0, \"0\":0}\n",
    "data.University_Class = data.University_Class.apply(lambda x: university_class_mapping.get(x, 0))\n",
    "data.University_Class.value_counts()\n"
   ]
  },
  {
   "cell_type": "code",
   "execution_count": 125,
   "metadata": {},
   "outputs": [],
   "source": [
    "data.rename(columns={\"Bölüm\": \"University_Department\"}, inplace=True)"
   ]
  },
  {
   "cell_type": "code",
   "execution_count": 126,
   "metadata": {},
   "outputs": [
    {
     "data": {
      "text/plain": [
       "University_Department\n",
       "Endüstri Mühendisliği               2434\n",
       "İşletme                             2318\n",
       "Bilgisayar Mühendisliği             1917\n",
       "Hukuk                               1769\n",
       "Makine Mühendisliği                 1283\n",
       "                                    ... \n",
       "Matematik Muhendisliği                 1\n",
       "İlahiyat Fakultesi                     1\n",
       "Petrol ve Doğal Gaz Mühendsiliği       1\n",
       "radyo,sinema ve televizyon             1\n",
       "Nanoteknoloji Mühendisliği             1\n",
       "Name: count, Length: 7748, dtype: int64"
      ]
     },
     "execution_count": 126,
     "metadata": {},
     "output_type": "execute_result"
    }
   ],
   "source": [
    "data.University_Department.fillna(\"-\", inplace=True)\n",
    "data.University_Department.value_counts()"
   ]
  },
  {
   "cell_type": "code",
   "execution_count": 127,
   "metadata": {},
   "outputs": [],
   "source": [
    "data.drop(columns=[\"University_Department\"], inplace=True)"
   ]
  },
  {
   "cell_type": "code",
   "execution_count": 128,
   "metadata": {},
   "outputs": [],
   "source": [
    "data.rename(columns={\"Burs Aliyor mu?\": \"Scholarship\"}, inplace=True)"
   ]
  },
  {
   "cell_type": "code",
   "execution_count": 129,
   "metadata": {},
   "outputs": [
    {
     "data": {
      "text/plain": [
       "Scholarship\n",
       "Hayır    51978\n",
       "Evet      9289\n",
       "EVET      3475\n",
       "hayır      272\n",
       "evet       111\n",
       "Name: count, dtype: int64"
      ]
     },
     "execution_count": 129,
     "metadata": {},
     "output_type": "execute_result"
    }
   ],
   "source": [
    "data.Scholarship.value_counts()"
   ]
  },
  {
   "cell_type": "code",
   "execution_count": 130,
   "metadata": {},
   "outputs": [
    {
     "data": {
      "text/plain": [
       "Scholarship\n",
       "0    52250\n",
       "1    12875\n",
       "Name: count, dtype: int64"
      ]
     },
     "execution_count": 130,
     "metadata": {},
     "output_type": "execute_result"
    }
   ],
   "source": [
    "data.Scholarship = data.Scholarship.map(lambda x: 1 if fix_unicodedata(x) == \"evet\" else 0)\n",
    "data.Scholarship.value_counts()"
   ]
  },
  {
   "cell_type": "code",
   "execution_count": 131,
   "metadata": {},
   "outputs": [],
   "source": [
    "data.rename(columns={\"Burslu ise Burs Yuzdesi\": \"Scholarship_Percentage\"}, inplace=True)\n"
   ]
  },
  {
   "cell_type": "code",
   "execution_count": 132,
   "metadata": {},
   "outputs": [
    {
     "data": {
      "text/plain": [
       "np.int64(42685)"
      ]
     },
     "execution_count": 132,
     "metadata": {},
     "output_type": "execute_result"
    }
   ],
   "source": [
    "data.Scholarship_Percentage.isna().sum()"
   ]
  },
  {
   "cell_type": "code",
   "execution_count": 133,
   "metadata": {},
   "outputs": [
    {
     "data": {
      "text/plain": [
       "Scholarship_Percentage\n",
       "-        42685\n",
       "0.0      12172\n",
       "100.0     5049\n",
       "50.0      3149\n",
       "75.0      1002\n",
       "25.0       785\n",
       "10.0        50\n",
       "60.0        27\n",
       "1.0         26\n",
       "65.0        17\n",
       "80.0        15\n",
       "5.0         14\n",
       "30.0        14\n",
       "85.0        11\n",
       "2.0         10\n",
       "55.0         8\n",
       "35.0         7\n",
       "62.5         7\n",
       "62.0         7\n",
       "45.0         6\n",
       "7.0          6\n",
       "70.0         5\n",
       "20.0         5\n",
       "99.0         5\n",
       "90.0         4\n",
       "40.0         4\n",
       "63.0         4\n",
       "6.0          4\n",
       "3.0          2\n",
       "98.0         2\n",
       "8.0          2\n",
       "11.0         1\n",
       "4.0          1\n",
       "32.0         1\n",
       "91.5         1\n",
       "37.0         1\n",
       "67.5         1\n",
       "88.0         1\n",
       "87.5         1\n",
       "82.5         1\n",
       "74.0         1\n",
       "72.0         1\n",
       "69.0         1\n",
       "67.0         1\n",
       "41.0         1\n",
       "64.0         1\n",
       "57.5         1\n",
       "57.0         1\n",
       "48.0         1\n",
       "46.0         1\n",
       "41.5         1\n",
       "49.0         1\n",
       "Name: count, dtype: int64"
      ]
     },
     "execution_count": 133,
     "metadata": {},
     "output_type": "execute_result"
    }
   ],
   "source": [
    "data.Scholarship_Percentage.fillna(\"-\", inplace=True)\n",
    "data.Scholarship_Percentage.value_counts()"
   ]
  },
  {
   "cell_type": "code",
   "execution_count": 134,
   "metadata": {},
   "outputs": [
    {
     "data": {
      "text/plain": [
       "Scholarship_Percentage\n",
       "-        41348\n",
       "0.0      10532\n",
       "100.0      190\n",
       "50.0        91\n",
       "25.0        80\n",
       "75.0         9\n",
       "Name: count, dtype: int64"
      ]
     },
     "execution_count": 134,
     "metadata": {},
     "output_type": "execute_result"
    }
   ],
   "source": [
    "data.loc[data.Scholarship == 0, \"Scholarship_Percentage\"].value_counts()"
   ]
  },
  {
   "cell_type": "code",
   "execution_count": 135,
   "metadata": {},
   "outputs": [
    {
     "data": {
      "text/plain": [
       "Scholarship_Percentage\n",
       "100.0    4859\n",
       "50.0     3058\n",
       "0.0      1640\n",
       "-        1337\n",
       "75.0      993\n",
       "25.0      705\n",
       "10.0       50\n",
       "60.0       27\n",
       "1.0        26\n",
       "65.0       17\n",
       "80.0       15\n",
       "5.0        14\n",
       "30.0       14\n",
       "85.0       11\n",
       "2.0        10\n",
       "55.0        8\n",
       "62.0        7\n",
       "35.0        7\n",
       "62.5        7\n",
       "7.0         6\n",
       "45.0        6\n",
       "70.0        5\n",
       "99.0        5\n",
       "20.0        5\n",
       "40.0        4\n",
       "63.0        4\n",
       "6.0         4\n",
       "90.0        4\n",
       "3.0         2\n",
       "8.0         2\n",
       "98.0        2\n",
       "41.5        1\n",
       "67.0        1\n",
       "88.0        1\n",
       "87.5        1\n",
       "82.5        1\n",
       "74.0        1\n",
       "4.0         1\n",
       "72.0        1\n",
       "69.0        1\n",
       "67.5        1\n",
       "64.0        1\n",
       "41.0        1\n",
       "11.0        1\n",
       "57.5        1\n",
       "57.0        1\n",
       "91.5        1\n",
       "32.0        1\n",
       "48.0        1\n",
       "37.0        1\n",
       "46.0        1\n",
       "49.0        1\n",
       "Name: count, dtype: int64"
      ]
     },
     "execution_count": 135,
     "metadata": {},
     "output_type": "execute_result"
    }
   ],
   "source": [
    "data.loc[data.Scholarship == 1, \"Scholarship_Percentage\"].value_counts()"
   ]
  },
  {
   "cell_type": "code",
   "execution_count": 136,
   "metadata": {},
   "outputs": [
    {
     "data": {
      "text/plain": [
       "Scholarship_Percentage\n",
       "0.0      54857\n",
       "100.0     5049\n",
       "50.0      3149\n",
       "75.0      1002\n",
       "25.0       785\n",
       "10.0        50\n",
       "60.0        27\n",
       "1.0         26\n",
       "65.0        17\n",
       "80.0        15\n",
       "5.0         14\n",
       "30.0        14\n",
       "85.0        11\n",
       "2.0         10\n",
       "55.0         8\n",
       "62.5         7\n",
       "62.0         7\n",
       "35.0         7\n",
       "45.0         6\n",
       "7.0          6\n",
       "70.0         5\n",
       "99.0         5\n",
       "20.0         5\n",
       "40.0         4\n",
       "90.0         4\n",
       "63.0         4\n",
       "6.0          4\n",
       "3.0          2\n",
       "8.0          2\n",
       "98.0         2\n",
       "46.0         1\n",
       "82.5         1\n",
       "69.0         1\n",
       "88.0         1\n",
       "64.0         1\n",
       "4.0          1\n",
       "87.5         1\n",
       "57.5         1\n",
       "57.0         1\n",
       "91.5         1\n",
       "11.0         1\n",
       "41.5         1\n",
       "49.0         1\n",
       "74.0         1\n",
       "72.0         1\n",
       "32.0         1\n",
       "48.0         1\n",
       "37.0         1\n",
       "67.0         1\n",
       "41.0         1\n",
       "67.5         1\n",
       "Name: count, dtype: int64"
      ]
     },
     "execution_count": 136,
     "metadata": {},
     "output_type": "execute_result"
    }
   ],
   "source": [
    "data.Scholarship_Percentage = data.Scholarship_Percentage.apply(lambda x: '0.0' if str(x) == '-' else str(x))\n",
    "data['Scholarship_Percentage'] = data['Scholarship_Percentage'].str.strip().astype('float')\n",
    "data.Scholarship_Percentage.value_counts()"
   ]
  },
  {
   "cell_type": "code",
   "execution_count": 137,
   "metadata": {},
   "outputs": [
    {
     "data": {
      "text/plain": [
       "Scholarship_Percentage\n",
       "0.0      54896\n",
       "100.0     5049\n",
       "50.0      3149\n",
       "75.0      1002\n",
       "25.0       785\n",
       "10.0        51\n",
       "60.0        46\n",
       "5.0         26\n",
       "65.0        20\n",
       "80.0        16\n",
       "30.0        15\n",
       "85.0        13\n",
       "55.0        10\n",
       "45.0         9\n",
       "35.0         8\n",
       "95.0         7\n",
       "70.0         7\n",
       "40.0         6\n",
       "20.0         5\n",
       "90.0         5\n",
       "Name: count, dtype: int64"
      ]
     },
     "execution_count": 137,
     "metadata": {},
     "output_type": "execute_result"
    }
   ],
   "source": [
    "def fix_scholarship_percentage(x):\n",
    "    return (x // 5) * 5\n",
    "\n",
    "data.Scholarship_Percentage = data.Scholarship_Percentage.apply(fix_scholarship_percentage)\n",
    "data.Scholarship_Percentage.value_counts().sort_values(ascending=False)"
   ]
  },
  {
   "cell_type": "code",
   "execution_count": 138,
   "metadata": {},
   "outputs": [],
   "source": [
    "data.rename(columns={\"Universite Turu\": \"University_Type\"}, inplace=True)"
   ]
  },
  {
   "cell_type": "code",
   "execution_count": 139,
   "metadata": {},
   "outputs": [
    {
     "data": {
      "text/plain": [
       "University_Type\n",
       "Devlet    37885\n",
       "DEVLET    15377\n",
       "Özel       8336\n",
       "ÖZEL       3272\n",
       "Name: count, dtype: int64"
      ]
     },
     "execution_count": 139,
     "metadata": {},
     "output_type": "execute_result"
    }
   ],
   "source": [
    "data.University_Type.value_counts()"
   ]
  },
  {
   "cell_type": "code",
   "execution_count": 140,
   "metadata": {},
   "outputs": [
    {
     "data": {
      "text/plain": [
       "University_Type\n",
       "Devlet    53517\n",
       "Özel      11608\n",
       "Name: count, dtype: int64"
      ]
     },
     "execution_count": 140,
     "metadata": {},
     "output_type": "execute_result"
    }
   ],
   "source": [
    "data.University_Type.fillna(\"Devlet\", inplace=True)\n",
    "data.University_Type = data.University_Type.str.capitalize()\n",
    "\n",
    "data.University_Type.value_counts()"
   ]
  },
  {
   "cell_type": "code",
   "execution_count": 141,
   "metadata": {},
   "outputs": [
    {
     "data": {
      "text/plain": [
       "Universite Adi\n",
       "İSTANBUL ÜNİVERSİTESİ                      2083\n",
       "MARMARA ÜNİVERSİTESİ                       1672\n",
       "İSTANBUL TEKNİK ÜNİVERSİTESİ               1464\n",
       "YILDIZ TEKNİK ÜNİVERSİTESİ                 1438\n",
       "ORTA DOĞU TEKNİK ÜNİVERSİTESİ              1258\n",
       "                                           ... \n",
       "Brown University                              1\n",
       "ALANYA HAMDULLAH EMİN PAŞA ÜNİVERSİTESİ       1\n",
       "İstanbul Bilim Üniversitesi                   1\n",
       "AVRUPA MESLEK YÜKSEKOKULU                     1\n",
       "İstanbul Atlas Üniversitesi                   1\n",
       "Name: count, Length: 527, dtype: int64"
      ]
     },
     "execution_count": 141,
     "metadata": {},
     "output_type": "execute_result"
    }
   ],
   "source": [
    "data['Universite Adi'].value_counts()"
   ]
  },
  {
   "cell_type": "code",
   "execution_count": 142,
   "metadata": {},
   "outputs": [],
   "source": [
    "data.drop(columns=[\"Universite Adi\"], inplace=True)"
   ]
  },
  {
   "cell_type": "code",
   "execution_count": 143,
   "metadata": {},
   "outputs": [
    {
     "data": {
      "text/plain": [
       "Ikametgah Sehri\n",
       "İstanbul               16625\n",
       "Ankara                  6485\n",
       "Istanbul                3469\n",
       "İzmir                   3096\n",
       "Bursa                   1752\n",
       "                       ...  \n",
       "Beylikdüzü/İstanbul        1\n",
       "ODTÜ/Ankara                1\n",
       "Dilovası/Kocaeli           1\n",
       "Çaycuma/Zonguldak          1\n",
       "Çankaya/Ankara             1\n",
       "Name: count, Length: 319, dtype: int64"
      ]
     },
     "execution_count": 143,
     "metadata": {},
     "output_type": "execute_result"
    }
   ],
   "source": [
    "data['Ikametgah Sehri'].value_counts()"
   ]
  },
  {
   "cell_type": "code",
   "execution_count": 144,
   "metadata": {},
   "outputs": [
    {
     "data": {
      "text/plain": [
       "Dogum Yeri\n",
       "İstanbul             8682\n",
       "Ankara               4045\n",
       "İzmir                2170\n",
       "Istanbul             1894\n",
       "Adana                1810\n",
       "                     ... \n",
       "körfez/kocaeli          1\n",
       "GEDIZ                   1\n",
       "İstanbul Bakırköy       1\n",
       "İstanbul-Şişli          1\n",
       "Ankara keçiören         1\n",
       "Name: count, Length: 2230, dtype: int64"
      ]
     },
     "execution_count": 144,
     "metadata": {},
     "output_type": "execute_result"
    }
   ],
   "source": [
    "data['Dogum Yeri'].value_counts()"
   ]
  },
  {
   "cell_type": "code",
   "execution_count": 145,
   "metadata": {},
   "outputs": [],
   "source": [
    "data.drop(columns=[\"Ikametgah Sehri\", \"Dogum Yeri\"], inplace=True)"
   ]
  },
  {
   "cell_type": "code",
   "execution_count": 146,
   "metadata": {},
   "outputs": [],
   "source": [
    "data.rename(columns={\"Cinsiyet\": \"Gender\"}, inplace=True)"
   ]
  },
  {
   "cell_type": "code",
   "execution_count": 147,
   "metadata": {},
   "outputs": [
    {
     "data": {
      "text/plain": [
       "Gender\n",
       "Kadın                    32077\n",
       "Erkek                    22752\n",
       "ERKEK                    10012\n",
       "Belirtmek istemiyorum      115\n",
       "Name: count, dtype: int64"
      ]
     },
     "execution_count": 147,
     "metadata": {},
     "output_type": "execute_result"
    }
   ],
   "source": [
    "data.Gender.value_counts()"
   ]
  },
  {
   "cell_type": "code",
   "execution_count": 148,
   "metadata": {},
   "outputs": [],
   "source": [
    "data.fillna(\"Belirtmek istemiyorum\", inplace=True)"
   ]
  },
  {
   "cell_type": "code",
   "execution_count": 149,
   "metadata": {},
   "outputs": [
    {
     "data": {
      "text/plain": [
       "Gender\n",
       "ERKEK    32764\n",
       "KADIN    32077\n",
       "NA         284\n",
       "Name: count, dtype: int64"
      ]
     },
     "execution_count": 149,
     "metadata": {},
     "output_type": "execute_result"
    }
   ],
   "source": [
    "data.Gender = data.Gender.map(lambda x: \"NA\" if str(x) == \"Belirtmek istemiyorum\" else x.upper())\n",
    "data.Gender.value_counts()"
   ]
  },
  {
   "cell_type": "code",
   "execution_count": 150,
   "metadata": {},
   "outputs": [],
   "source": [
    "data.rename(columns={\"Basvuru Yili\": \"Application_Year\"}, inplace=True)"
   ]
  },
  {
   "cell_type": "code",
   "execution_count": 151,
   "metadata": {},
   "outputs": [
    {
     "data": {
      "text/plain": [
       "np.int64(0)"
      ]
     },
     "execution_count": 151,
     "metadata": {},
     "output_type": "execute_result"
    }
   ],
   "source": [
    "data.Application_Year.isna().sum()"
   ]
  },
  {
   "cell_type": "code",
   "execution_count": 152,
   "metadata": {},
   "outputs": [
    {
     "data": {
      "text/plain": [
       "Application_Year\n",
       "2021    11594\n",
       "2017    10325\n",
       "2015     7804\n",
       "2020     7760\n",
       "2022     7622\n",
       "2019     7248\n",
       "2014     6454\n",
       "2016     5213\n",
       "2018     1105\n",
       "Name: count, dtype: int64"
      ]
     },
     "execution_count": 152,
     "metadata": {},
     "output_type": "execute_result"
    }
   ],
   "source": [
    "data.Application_Year.value_counts()"
   ]
  },
  {
   "cell_type": "code",
   "execution_count": 153,
   "metadata": {},
   "outputs": [
    {
     "data": {
      "text/plain": [
       "dtype('O')"
      ]
     },
     "execution_count": 153,
     "metadata": {},
     "output_type": "execute_result"
    }
   ],
   "source": [
    "data.Application_Year = data.Application_Year.astype(str)\n",
    "data.Application_Year.dtype"
   ]
  },
  {
   "cell_type": "code",
   "execution_count": 154,
   "metadata": {},
   "outputs": [],
   "source": [
    "data.rename(columns={\"Degerlendirme Puani\": \"Evaluation_Score\"}, inplace=True)"
   ]
  },
  {
   "cell_type": "code",
   "execution_count": 155,
   "metadata": {},
   "outputs": [
    {
     "data": {
      "text/plain": [
       "np.int64(0)"
      ]
     },
     "execution_count": 155,
     "metadata": {},
     "output_type": "execute_result"
    }
   ],
   "source": [
    "data.Evaluation_Score.isna().sum()"
   ]
  },
  {
   "cell_type": "code",
   "execution_count": 156,
   "metadata": {},
   "outputs": [
    {
     "data": {
      "text/plain": [
       "dtype('O')"
      ]
     },
     "execution_count": 156,
     "metadata": {},
     "output_type": "execute_result"
    }
   ],
   "source": [
    "data.Evaluation_Score.dtype"
   ]
  },
  {
   "cell_type": "code",
   "execution_count": 157,
   "metadata": {},
   "outputs": [
    {
     "data": {
      "text/plain": [
       "np.int64(1)"
      ]
     },
     "execution_count": 157,
     "metadata": {},
     "output_type": "execute_result"
    }
   ],
   "source": [
    "data['Evaluation_Score_Numeric'] = pd.to_numeric(data['Evaluation_Score'], errors='coerce')\n",
    "data.Evaluation_Score_Numeric.isna().sum()"
   ]
  },
  {
   "cell_type": "code",
   "execution_count": 158,
   "metadata": {},
   "outputs": [],
   "source": [
    "data.Evaluation_Score = data.Evaluation_Score_Numeric"
   ]
  },
  {
   "cell_type": "code",
   "execution_count": 159,
   "metadata": {},
   "outputs": [],
   "source": [
    "data.Evaluation_Score.fillna(0, inplace=True)"
   ]
  },
  {
   "cell_type": "code",
   "execution_count": 160,
   "metadata": {},
   "outputs": [],
   "source": [
    "data.drop(columns=[\"Evaluation_Score_Numeric\"], inplace=True)"
   ]
  },
  {
   "cell_type": "code",
   "execution_count": 161,
   "metadata": {},
   "outputs": [],
   "source": [
    "data.rename(columns={\"Dogum Tarihi\": \"Birth_Date\"}, inplace=True)"
   ]
  },
  {
   "cell_type": "code",
   "execution_count": 162,
   "metadata": {},
   "outputs": [
    {
     "data": {
      "text/plain": [
       "np.int64(0)"
      ]
     },
     "execution_count": 162,
     "metadata": {},
     "output_type": "execute_result"
    }
   ],
   "source": [
    "data.Birth_Date.isna().sum()"
   ]
  },
  {
   "cell_type": "code",
   "execution_count": 163,
   "metadata": {},
   "outputs": [
    {
     "data": {
      "text/plain": [
       "Birth_Date\n",
       "1/1/70 2:00              1655\n",
       "1/1/00 0:00               179\n",
       "Belirtmek istemiyorum     177\n",
       "1/1/01 0:00               154\n",
       "1/1/1997                  139\n",
       "1/1/1998                  129\n",
       "1/1/1996                  119\n",
       "1/1/99 0:00               117\n",
       "1/1/1995                  106\n",
       "1/1/1999                   84\n",
       "1.01.2001 00:00            82\n",
       "1/1/98 0:00                81\n",
       "1-Jan-95                   78\n",
       "1/1/1994                   73\n",
       "1/1/02 0:00                71\n",
       "1/1/1993                   68\n",
       "1.01.2000 00:00            61\n",
       "1.01.2002 00:00            59\n",
       "1-Jan-94                   59\n",
       "1-Jan-90                   57\n",
       "1-Jan-96                   52\n",
       "1/1/2000                   50\n",
       "1-Jan-93                   43\n",
       "1/1/97 0:00                43\n",
       "1994-01-01                 40\n",
       "1/1/1970                   38\n",
       "1/1/1992                   37\n",
       "1995-01-01                 36\n",
       "1996-01-01                 35\n",
       "1/1/1991                   32\n",
       "10/1/1997                  30\n",
       "3/1/00 0:00                29\n",
       "1.01.1999 00:00            29\n",
       "1/2/1997                   27\n",
       "9/15/99 0:00               27\n",
       "1/3/00 0:00                27\n",
       "3/1/1997                   27\n",
       "5/5/1997                   26\n",
       "7/23/01 0:00               26\n",
       "8/20/99 0:00               26\n",
       "Name: count, dtype: int64"
      ]
     },
     "execution_count": 163,
     "metadata": {},
     "output_type": "execute_result"
    }
   ],
   "source": [
    "data.Birth_Date.value_counts()[:40]"
   ]
  },
  {
   "cell_type": "code",
   "execution_count": 164,
   "metadata": {},
   "outputs": [],
   "source": [
    "import re\n",
    "def extract_year(birth_date):\n",
    "    birth_date = str(birth_date)\n",
    "    # Eğer \"Belirtmek istemiyorum\" gibi metin varsa NaN yap\n",
    "    if re.search(r'Belirtmek istemiyorum', birth_date):\n",
    "        return None\n",
    "    # Düzenli ifadeyle 4 haneli yılları çek\n",
    "    match = re.search(r'\\b(19|20)\\d{2}\\b', birth_date)\n",
    "    if match:\n",
    "        return match.group(0)\n",
    "    # 2 haneli yıllar için (örneğin, '70, '99), varsayılan olarak 1900'ler ya da 2000'ler\n",
    "    match = re.search(r'\\b\\d{2}\\b', birth_date)\n",
    "    if match:\n",
    "        year = int(match.group(0))\n",
    "        return '19' + str(year) if year >= 70 else '20' + str(year)\n",
    "    return None"
   ]
  },
  {
   "cell_type": "code",
   "execution_count": 165,
   "metadata": {},
   "outputs": [],
   "source": [
    "data.Birth_Date = data.Birth_Date.apply(extract_year)"
   ]
  },
  {
   "cell_type": "code",
   "execution_count": 166,
   "metadata": {},
   "outputs": [
    {
     "name": "stdout",
     "output_type": "stream",
     "text": [
      "Min year: 200.0\n",
      "Max year: 2050.0\n"
     ]
    }
   ],
   "source": [
    "# Yıl bilgisini sayısal formata çevirme\n",
    "data['Birth_Date'] = pd.to_numeric(data['Birth_Date'])\n",
    "\n",
    "# Min ve Max değerleri bulma\n",
    "min_year = data['Birth_Date'].min()\n",
    "max_year = data['Birth_Date'].max()\n",
    "\n",
    "print(f\"Min year: {min_year}\")\n",
    "print(f\"Max year: {max_year}\")"
   ]
  },
  {
   "cell_type": "code",
   "execution_count": 167,
   "metadata": {},
   "outputs": [],
   "source": [
    "data['Application_Age'] = data['Application_Year'].astype(int) - data['Birth_Date']"
   ]
  },
  {
   "cell_type": "code",
   "execution_count": 168,
   "metadata": {},
   "outputs": [
    {
     "data": {
      "text/plain": [
       "Application_Age\n",
       " 21.0      10888\n",
       " 20.0       9610\n",
       " 22.0       9293\n",
       " 19.0       5334\n",
       " 23.0       5327\n",
       "           ...  \n",
       " 73.0          1\n",
       "-33.0          1\n",
       " 1816.0        1\n",
       " 1811.0        1\n",
       " 14.0          1\n",
       "Name: count, Length: 71, dtype: int64"
      ]
     },
     "execution_count": 168,
     "metadata": {},
     "output_type": "execute_result"
    }
   ],
   "source": [
    "data.Application_Age.value_counts().sort_values(ascending=False)"
   ]
  },
  {
   "cell_type": "code",
   "execution_count": 169,
   "metadata": {},
   "outputs": [
    {
     "data": {
      "text/plain": [
       "Valid_Age\n",
       "True     45428\n",
       "False    19697\n",
       "Name: count, dtype: int64"
      ]
     },
     "execution_count": 169,
     "metadata": {},
     "output_type": "execute_result"
    }
   ],
   "source": [
    "data['Valid_Age'] = data['Application_Age'].apply(lambda x: True if 18 <= x <= 60 else False)\n",
    "data.Valid_Age.value_counts()"
   ]
  },
  {
   "cell_type": "code",
   "execution_count": 170,
   "metadata": {},
   "outputs": [
    {
     "data": {
      "text/plain": [
       "np.float64(22.301840274720437)"
      ]
     },
     "execution_count": 170,
     "metadata": {},
     "output_type": "execute_result"
    }
   ],
   "source": [
    "Application_Age_mean = data[data.Valid_Age == True].Application_Age.mean()\n",
    "Application_Age_mean"
   ]
  },
  {
   "cell_type": "code",
   "execution_count": 171,
   "metadata": {},
   "outputs": [],
   "source": [
    "data.Application_Age = data.Application_Age.apply(lambda x: x if 18 <= x <= 60 else Application_Age_mean)"
   ]
  },
  {
   "cell_type": "code",
   "execution_count": 172,
   "metadata": {},
   "outputs": [
    {
     "data": {
      "text/plain": [
       "Application_Age\n",
       "22.30184    19697\n",
       "21.00000    10888\n",
       "20.00000     9610\n",
       "22.00000     9293\n",
       "19.00000     5334\n",
       "23.00000     5327\n",
       "24.00000     2218\n",
       "50.00000     1104\n",
       "51.00000      564\n",
       "25.00000      543\n",
       "18.00000      283\n",
       "26.00000       95\n",
       "27.00000       47\n",
       "44.00000       45\n",
       "28.00000       29\n",
       "30.00000       13\n",
       "29.00000       11\n",
       "31.00000        6\n",
       "38.00000        5\n",
       "34.00000        5\n",
       "45.00000        2\n",
       "40.00000        2\n",
       "37.00000        1\n",
       "32.00000        1\n",
       "35.00000        1\n",
       "42.00000        1\n",
       "Name: count, dtype: int64"
      ]
     },
     "execution_count": 172,
     "metadata": {},
     "output_type": "execute_result"
    }
   ],
   "source": [
    "data.Application_Age.value_counts().sort_values(ascending=False)"
   ]
  },
  {
   "cell_type": "code",
   "execution_count": 173,
   "metadata": {},
   "outputs": [],
   "source": [
    "data.drop(columns=[\"Valid_Age\", \"Birth_Date\"], inplace=True)"
   ]
  },
  {
   "cell_type": "code",
   "execution_count": 174,
   "metadata": {},
   "outputs": [
    {
     "data": {
      "text/plain": [
       "Index(['Application_Year', 'Evaluation_Score', 'Gender', 'University_Type',\n",
       "       'Scholarship_Percentage', 'Scholarship', 'University_Class',\n",
       "       'University_Gano', 'Previous_University_Graduation', 'Lise_Type',\n",
       "       'Lise_Department', 'Lise_Graduation_Score',\n",
       "       'Scholarship_From_Other_Institution', 'Mother_Education', 'Mother_Job',\n",
       "       'Mother_Sector', 'Father_Education', 'Father_Job', 'Father_Sector',\n",
       "       'Siblings', 'Startup_Club_Member', 'Sports_Professional', 'STK_Member',\n",
       "       'STK_Project_Attendee', 'Entrepreneur_Experience', 'English_Knowledge',\n",
       "       'English_Level', 'Application_Age'],\n",
       "      dtype='object')"
      ]
     },
     "execution_count": 174,
     "metadata": {},
     "output_type": "execute_result"
    }
   ],
   "source": [
    "data.columns"
   ]
  },
  {
   "cell_type": "code",
   "execution_count": 175,
   "metadata": {},
   "outputs": [
    {
     "name": "stdout",
     "output_type": "stream",
     "text": [
      "Series([], dtype: float64)\n"
     ]
    }
   ],
   "source": [
    "missing_datar = data.isnull().sum() / len(data) * 100\n",
    "print(missing_datar[missing_datar > 0].sort_values(ascending=False))"
   ]
  },
  {
   "cell_type": "code",
   "execution_count": null,
   "metadata": {},
   "outputs": [],
   "source": []
  }
 ],
 "metadata": {
  "kernelspec": {
   "display_name": "Python 3",
   "language": "python",
   "name": "python3"
  },
  "language_info": {
   "codemirror_mode": {
    "name": "ipython",
    "version": 3
   },
   "file_extension": ".py",
   "mimetype": "text/x-python",
   "name": "python",
   "nbconvert_exporter": "python",
   "pygments_lexer": "ipython3",
   "version": "3.11.1"
  }
 },
 "nbformat": 4,
 "nbformat_minor": 2
}
