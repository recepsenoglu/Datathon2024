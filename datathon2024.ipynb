{
 "cells": [
  {
   "cell_type": "code",
   "execution_count": 115,
   "metadata": {},
   "outputs": [
    {
     "name": "stdout",
     "output_type": "stream",
     "text": [
      "Setup Complete\n"
     ]
    }
   ],
   "source": [
    "import numpy as np\n",
    "import pandas as pd\n",
    "import seaborn as sns\n",
    "import matplotlib.pyplot as plt\n",
    "import datetime as dt\n",
    "\n",
    "import warnings\n",
    "warnings.filterwarnings(\"ignore\")\n",
    "\n",
    "print(\"Setup Complete\")"
   ]
  },
  {
   "cell_type": "code",
   "execution_count": 116,
   "metadata": {},
   "outputs": [
    {
     "data": {
      "text/html": [
       "<div>\n",
       "<style scoped>\n",
       "    .dataframe tbody tr th:only-of-type {\n",
       "        vertical-align: middle;\n",
       "    }\n",
       "\n",
       "    .dataframe tbody tr th {\n",
       "        vertical-align: top;\n",
       "    }\n",
       "\n",
       "    .dataframe thead th {\n",
       "        text-align: right;\n",
       "    }\n",
       "</style>\n",
       "<table border=\"1\" class=\"dataframe\">\n",
       "  <thead>\n",
       "    <tr style=\"text-align: right;\">\n",
       "      <th></th>\n",
       "      <th>Basvuru Yili</th>\n",
       "      <th>Degerlendirme Puani</th>\n",
       "      <th>Cinsiyet</th>\n",
       "      <th>Dogum Tarihi</th>\n",
       "      <th>Dogum Yeri</th>\n",
       "      <th>Ikametgah Sehri</th>\n",
       "      <th>Universite Adi</th>\n",
       "      <th>Universite Turu</th>\n",
       "      <th>Burslu ise Burs Yuzdesi</th>\n",
       "      <th>Burs Aliyor mu?</th>\n",
       "      <th>...</th>\n",
       "      <th>Spor Dalindaki Rolunuz Nedir?</th>\n",
       "      <th>Aktif olarak bir STK üyesi misiniz?</th>\n",
       "      <th>Hangi STK'nin Uyesisiniz?</th>\n",
       "      <th>Stk Projesine Katildiniz Mi?</th>\n",
       "      <th>Girisimcilikle Ilgili Deneyiminiz Var Mi?</th>\n",
       "      <th>Girisimcilikle Ilgili Deneyiminizi Aciklayabilir misiniz?</th>\n",
       "      <th>Ingilizce Biliyor musunuz?</th>\n",
       "      <th>Ingilizce Seviyeniz?</th>\n",
       "      <th>Daha Önceden Mezun Olunduysa, Mezun Olunan Üniversite</th>\n",
       "      <th>id</th>\n",
       "    </tr>\n",
       "  </thead>\n",
       "  <tbody>\n",
       "    <tr>\n",
       "      <th>0</th>\n",
       "      <td>2014</td>\n",
       "      <td>52.0</td>\n",
       "      <td>Erkek</td>\n",
       "      <td>4/6/1994</td>\n",
       "      <td>Altindag, Ankara</td>\n",
       "      <td>Ankara</td>\n",
       "      <td>İHSAN DOĞRAMACI BİLKENT</td>\n",
       "      <td>Özel</td>\n",
       "      <td>100.0</td>\n",
       "      <td>Evet</td>\n",
       "      <td>...</td>\n",
       "      <td>Diğer</td>\n",
       "      <td>Hayır</td>\n",
       "      <td>NaN</td>\n",
       "      <td>Evet</td>\n",
       "      <td>Hayır</td>\n",
       "      <td>NaN</td>\n",
       "      <td>NaN</td>\n",
       "      <td>NaN</td>\n",
       "      <td>NaN</td>\n",
       "      <td>0</td>\n",
       "    </tr>\n",
       "    <tr>\n",
       "      <th>1</th>\n",
       "      <td>2014</td>\n",
       "      <td>30.0</td>\n",
       "      <td>Erkek</td>\n",
       "      <td>6/11/1993</td>\n",
       "      <td>Üsküdar</td>\n",
       "      <td>İstanbul</td>\n",
       "      <td>İHSAN DOĞRAMACI BİLKENT</td>\n",
       "      <td>Özel</td>\n",
       "      <td>100.0</td>\n",
       "      <td>Hayır</td>\n",
       "      <td>...</td>\n",
       "      <td>0</td>\n",
       "      <td>Hayır</td>\n",
       "      <td>NaN</td>\n",
       "      <td>Evet</td>\n",
       "      <td>Evet</td>\n",
       "      <td>Bilkent Cyberparkta bir şirkette Türkiye nin i...</td>\n",
       "      <td>NaN</td>\n",
       "      <td>NaN</td>\n",
       "      <td>NaN</td>\n",
       "      <td>1</td>\n",
       "    </tr>\n",
       "    <tr>\n",
       "      <th>2</th>\n",
       "      <td>2014</td>\n",
       "      <td>18.0</td>\n",
       "      <td>Erkek</td>\n",
       "      <td>1/15/1986</td>\n",
       "      <td>Samsun</td>\n",
       "      <td>İstanbul</td>\n",
       "      <td>ULUSLARARASI KIBRIS ÜNİVERSİTESİ</td>\n",
       "      <td>Özel</td>\n",
       "      <td>100.0</td>\n",
       "      <td>Hayır</td>\n",
       "      <td>...</td>\n",
       "      <td>0</td>\n",
       "      <td>Hayır</td>\n",
       "      <td>NaN</td>\n",
       "      <td>Hayır</td>\n",
       "      <td>Hayır</td>\n",
       "      <td>NaN</td>\n",
       "      <td>NaN</td>\n",
       "      <td>NaN</td>\n",
       "      <td>NaN</td>\n",
       "      <td>2</td>\n",
       "    </tr>\n",
       "    <tr>\n",
       "      <th>3</th>\n",
       "      <td>2014</td>\n",
       "      <td>40.0</td>\n",
       "      <td>Erkek</td>\n",
       "      <td>6/4/1991</td>\n",
       "      <td>Diyarbakır</td>\n",
       "      <td>İstanbul</td>\n",
       "      <td>İSTANBUL ŞEHİR ÜNİVERSİTESİ</td>\n",
       "      <td>Özel</td>\n",
       "      <td>100.0</td>\n",
       "      <td>Evet</td>\n",
       "      <td>...</td>\n",
       "      <td>0</td>\n",
       "      <td>Hayır</td>\n",
       "      <td>NaN</td>\n",
       "      <td>Evet</td>\n",
       "      <td>Hayır</td>\n",
       "      <td>NaN</td>\n",
       "      <td>NaN</td>\n",
       "      <td>NaN</td>\n",
       "      <td>NaN</td>\n",
       "      <td>3</td>\n",
       "    </tr>\n",
       "    <tr>\n",
       "      <th>4</th>\n",
       "      <td>2014</td>\n",
       "      <td>24.0</td>\n",
       "      <td>Erkek</td>\n",
       "      <td>2 Kasim 1992</td>\n",
       "      <td>Ankara/Altındağ</td>\n",
       "      <td>Ankara</td>\n",
       "      <td>TURGUT ÖZAL ÜNİVERSİTESİ</td>\n",
       "      <td>Özel</td>\n",
       "      <td>100.0</td>\n",
       "      <td>Evet</td>\n",
       "      <td>...</td>\n",
       "      <td>0</td>\n",
       "      <td>Hayır</td>\n",
       "      <td>NaN</td>\n",
       "      <td>Hayır</td>\n",
       "      <td>Hayır</td>\n",
       "      <td>NaN</td>\n",
       "      <td>NaN</td>\n",
       "      <td>NaN</td>\n",
       "      <td>NaN</td>\n",
       "      <td>4</td>\n",
       "    </tr>\n",
       "  </tbody>\n",
       "</table>\n",
       "<p>5 rows × 44 columns</p>\n",
       "</div>"
      ],
      "text/plain": [
       "   Basvuru Yili  Degerlendirme Puani Cinsiyet  Dogum Tarihi        Dogum Yeri  \\\n",
       "0          2014                 52.0    Erkek      4/6/1994  Altindag, Ankara   \n",
       "1          2014                 30.0    Erkek     6/11/1993           Üsküdar   \n",
       "2          2014                 18.0    Erkek     1/15/1986            Samsun   \n",
       "3          2014                 40.0    Erkek      6/4/1991        Diyarbakır   \n",
       "4          2014                 24.0    Erkek  2 Kasim 1992   Ankara/Altındağ   \n",
       "\n",
       "  Ikametgah Sehri                    Universite Adi Universite Turu  \\\n",
       "0          Ankara           İHSAN DOĞRAMACI BİLKENT            Özel   \n",
       "1        İstanbul           İHSAN DOĞRAMACI BİLKENT            Özel   \n",
       "2        İstanbul  ULUSLARARASI KIBRIS ÜNİVERSİTESİ            Özel   \n",
       "3        İstanbul       İSTANBUL ŞEHİR ÜNİVERSİTESİ            Özel   \n",
       "4          Ankara          TURGUT ÖZAL ÜNİVERSİTESİ            Özel   \n",
       "\n",
       "   Burslu ise Burs Yuzdesi Burs Aliyor mu?  ... Spor Dalindaki Rolunuz Nedir?  \\\n",
       "0                    100.0            Evet  ...                         Diğer   \n",
       "1                    100.0           Hayır  ...                             0   \n",
       "2                    100.0           Hayır  ...                             0   \n",
       "3                    100.0            Evet  ...                             0   \n",
       "4                    100.0            Evet  ...                             0   \n",
       "\n",
       "  Aktif olarak bir STK üyesi misiniz? Hangi STK'nin Uyesisiniz?  \\\n",
       "0                               Hayır                       NaN   \n",
       "1                               Hayır                       NaN   \n",
       "2                               Hayır                       NaN   \n",
       "3                               Hayır                       NaN   \n",
       "4                               Hayır                       NaN   \n",
       "\n",
       "  Stk Projesine Katildiniz Mi? Girisimcilikle Ilgili Deneyiminiz Var Mi?  \\\n",
       "0                         Evet                                     Hayır   \n",
       "1                         Evet                                      Evet   \n",
       "2                        Hayır                                     Hayır   \n",
       "3                         Evet                                     Hayır   \n",
       "4                        Hayır                                     Hayır   \n",
       "\n",
       "  Girisimcilikle Ilgili Deneyiminizi Aciklayabilir misiniz?  \\\n",
       "0                                                NaN          \n",
       "1  Bilkent Cyberparkta bir şirkette Türkiye nin i...          \n",
       "2                                                NaN          \n",
       "3                                                NaN          \n",
       "4                                                NaN          \n",
       "\n",
       "  Ingilizce Biliyor musunuz? Ingilizce Seviyeniz?  \\\n",
       "0                        NaN                  NaN   \n",
       "1                        NaN                  NaN   \n",
       "2                        NaN                  NaN   \n",
       "3                        NaN                  NaN   \n",
       "4                        NaN                  NaN   \n",
       "\n",
       "  Daha Önceden Mezun Olunduysa, Mezun Olunan Üniversite id  \n",
       "0                                                NaN     0  \n",
       "1                                                NaN     1  \n",
       "2                                                NaN     2  \n",
       "3                                                NaN     3  \n",
       "4                                                NaN     4  \n",
       "\n",
       "[5 rows x 44 columns]"
      ]
     },
     "execution_count": 116,
     "metadata": {},
     "output_type": "execute_result"
    }
   ],
   "source": [
    "data_ = pd.read_csv(\"data/train.csv\")\n",
    "data = data_.copy()\n",
    "data.head()"
   ]
  },
  {
   "cell_type": "code",
   "execution_count": 117,
   "metadata": {},
   "outputs": [
    {
     "name": "stdout",
     "output_type": "stream",
     "text": [
      "<class 'pandas.core.frame.DataFrame'>\n",
      "RangeIndex: 65125 entries, 0 to 65124\n",
      "Data columns (total 43 columns):\n",
      " #   Column                                                     Non-Null Count  Dtype  \n",
      "---  ------                                                     --------------  -----  \n",
      " 0   Basvuru Yili                                               65125 non-null  int64  \n",
      " 1   Degerlendirme Puani                                        65124 non-null  float64\n",
      " 2   Cinsiyet                                                   64956 non-null  object \n",
      " 3   Dogum Tarihi                                               64948 non-null  object \n",
      " 4   Dogum Yeri                                                 64334 non-null  object \n",
      " 5   Ikametgah Sehri                                            63088 non-null  object \n",
      " 6   Universite Adi                                             64993 non-null  object \n",
      " 7   Universite Turu                                            64870 non-null  object \n",
      " 8   Burslu ise Burs Yuzdesi                                    22440 non-null  float64\n",
      " 9   Burs Aliyor mu?                                            65125 non-null  object \n",
      " 10  Bölüm                                                      64894 non-null  object \n",
      " 11  Universite Kacinci Sinif                                   64751 non-null  object \n",
      " 12  Universite Not Ortalamasi                                  62372 non-null  object \n",
      " 13  Daha Once Baska Bir Universiteden Mezun Olmus              27780 non-null  object \n",
      " 14  Lise Adi                                                   64741 non-null  object \n",
      " 15  Lise Adi Diger                                             4733 non-null   object \n",
      " 16  Lise Sehir                                                 64071 non-null  object \n",
      " 17  Lise Turu                                                  64278 non-null  object \n",
      " 18  Lise Bolumu                                                64116 non-null  object \n",
      " 19  Lise Bolum Diger                                           1526 non-null   object \n",
      " 20  Lise Mezuniyet Notu                                        59208 non-null  object \n",
      " 21  Baska Bir Kurumdan Burs Aliyor mu?                         64894 non-null  object \n",
      " 22  Burs Aldigi Baska Kurum                                    21148 non-null  object \n",
      " 23  Baska Kurumdan Aldigi Burs Miktari                         20963 non-null  object \n",
      " 24  Anne Egitim Durumu                                         64719 non-null  object \n",
      " 25  Anne Calisma Durumu                                        53229 non-null  object \n",
      " 26  Anne Sektor                                                30588 non-null  object \n",
      " 27  Baba Egitim Durumu                                         64118 non-null  object \n",
      " 28  Baba Calisma Durumu                                        52507 non-null  object \n",
      " 29  Baba Sektor                                                44747 non-null  object \n",
      " 30  Kardes Sayisi                                              63993 non-null  object \n",
      " 31  Girisimcilik Kulupleri Tarzi Bir Kulube Uye misiniz?       63296 non-null  object \n",
      " 32  Uye Oldugunuz Kulubun Ismi                                 16434 non-null  object \n",
      " 33  Profesyonel Bir Spor Daliyla Mesgul musunuz?               64010 non-null  object \n",
      " 34  Spor Dalindaki Rolunuz Nedir?                              32850 non-null  object \n",
      " 35  Aktif olarak bir STK üyesi misiniz?                        52283 non-null  object \n",
      " 36  Hangi STK'nin Uyesisiniz?                                  15607 non-null  object \n",
      " 37  Stk Projesine Katildiniz Mi?                               36817 non-null  object \n",
      " 38  Girisimcilikle Ilgili Deneyiminiz Var Mi?                  52285 non-null  object \n",
      " 39  Girisimcilikle Ilgili Deneyiminizi Aciklayabilir misiniz?  14599 non-null  object \n",
      " 40  Ingilizce Biliyor musunuz?                                 58671 non-null  object \n",
      " 41  Ingilizce Seviyeniz?                                       28592 non-null  object \n",
      " 42  Daha Önceden Mezun Olunduysa, Mezun Olunan Üniversite      419 non-null    object \n",
      "dtypes: float64(2), int64(1), object(40)\n",
      "memory usage: 21.4+ MB\n"
     ]
    }
   ],
   "source": [
    "data.drop(columns=[\"id\"], inplace=True)\n",
    "data.info()"
   ]
  },
  {
   "cell_type": "code",
   "execution_count": 118,
   "metadata": {},
   "outputs": [
    {
     "data": {
      "text/plain": [
       "Index(['Basvuru Yili', 'Degerlendirme Puani', 'Cinsiyet', 'Dogum Tarihi',\n",
       "       'Dogum Yeri', 'Ikametgah Sehri', 'Universite Adi', 'Universite Turu',\n",
       "       'Burslu ise Burs Yuzdesi', 'Burs Aliyor mu?', 'Bölüm',\n",
       "       'Universite Kacinci Sinif', 'Universite Not Ortalamasi',\n",
       "       'Daha Once Baska Bir Universiteden Mezun Olmus', 'Lise Adi',\n",
       "       'Lise Adi Diger', 'Lise Sehir', 'Lise Turu', 'Lise Bolumu',\n",
       "       'Lise Bolum Diger', 'Lise Mezuniyet Notu',\n",
       "       'Baska Bir Kurumdan Burs Aliyor mu?', 'Burs Aldigi Baska Kurum',\n",
       "       'Baska Kurumdan Aldigi Burs Miktari', 'Anne Egitim Durumu',\n",
       "       'Anne Calisma Durumu', 'Anne Sektor', 'Baba Egitim Durumu',\n",
       "       'Baba Calisma Durumu', 'Baba Sektor', 'Kardes Sayisi',\n",
       "       'Girisimcilik Kulupleri Tarzi Bir Kulube Uye misiniz?',\n",
       "       'Uye Oldugunuz Kulubun Ismi',\n",
       "       'Profesyonel Bir Spor Daliyla Mesgul musunuz?',\n",
       "       'Spor Dalindaki Rolunuz Nedir?', 'Aktif olarak bir STK üyesi misiniz?',\n",
       "       'Hangi STK'nin Uyesisiniz?', 'Stk Projesine Katildiniz Mi?',\n",
       "       'Girisimcilikle Ilgili Deneyiminiz Var Mi?',\n",
       "       'Girisimcilikle Ilgili Deneyiminizi Aciklayabilir misiniz?',\n",
       "       'Ingilizce Biliyor musunuz?', 'Ingilizce Seviyeniz?',\n",
       "       'Daha Önceden Mezun Olunduysa, Mezun Olunan Üniversite'],\n",
       "      dtype='object')"
      ]
     },
     "execution_count": 118,
     "metadata": {},
     "output_type": "execute_result"
    }
   ],
   "source": [
    "data.columns"
   ]
  },
  {
   "cell_type": "code",
   "execution_count": 119,
   "metadata": {},
   "outputs": [
    {
     "data": {
      "text/plain": [
       "Dogum Tarihi\n",
       "9     14396\n",
       "10    11769\n",
       "12    10823\n",
       "8      9155\n",
       "11     6713\n",
       "16     4992\n",
       "13     4021\n",
       "15     2630\n",
       "14      433\n",
       "3       177\n",
       "19       16\n",
       "Name: count, dtype: int64"
      ]
     },
     "execution_count": 119,
     "metadata": {},
     "output_type": "execute_result"
    }
   ],
   "source": [
    "data[\"Dogum Tarihi\"].map(lambda x: len(str(x))).value_counts().sort_values(ascending=False)"
   ]
  },
  {
   "cell_type": "code",
   "execution_count": 120,
   "metadata": {},
   "outputs": [
    {
     "data": {
      "text/plain": [
       "1        6/11/1993\n",
       "2        1/15/1986\n",
       "5        4/14/1992\n",
       "7        3/18/1993\n",
       "9        4/25/1991\n",
       "           ...    \n",
       "41800    10/3/1999\n",
       "41802    11/2/1998\n",
       "41808    10/3/1999\n",
       "41817    2/12/1998\n",
       "41824    9/10/1998\n",
       "Name: Dogum Tarihi, Length: 14396, dtype: object"
      ]
     },
     "execution_count": 120,
     "metadata": {},
     "output_type": "execute_result"
    }
   ],
   "source": [
    "data[data[\"Dogum Tarihi\"].map(lambda x: len(str(x)) == 9)][\"Dogum Tarihi\"]"
   ]
  },
  {
   "cell_type": "code",
   "execution_count": 121,
   "metadata": {},
   "outputs": [
    {
     "data": {
      "text/plain": [
       "6        10/13/1994\n",
       "72       10/22/1992\n",
       "79       10/21/1990\n",
       "87       10/25/1994\n",
       "111      10/20/1993\n",
       "            ...    \n",
       "41822    30/07/1999\n",
       "41825    27/07/1999\n",
       "41828    31/03/1998\n",
       "41830    22/06/1998\n",
       "41831    12/10/1997\n",
       "Name: Dogum Tarihi, Length: 11769, dtype: object"
      ]
     },
     "execution_count": 121,
     "metadata": {},
     "output_type": "execute_result"
    }
   ],
   "source": [
    "data[data[\"Dogum Tarihi\"].map(lambda x: len(str(x)) == 10)][\"Dogum Tarihi\"]"
   ]
  },
  {
   "cell_type": "code",
   "execution_count": 122,
   "metadata": {},
   "outputs": [],
   "source": [
    "data.rename(columns={\"Aktif olarak bir STK üyesi misiniz?\": \"STK_Member\"}, inplace=True)"
   ]
  },
  {
   "cell_type": "code",
   "execution_count": 123,
   "metadata": {},
   "outputs": [
    {
     "data": {
      "text/plain": [
       "STK_Member\n",
       "0    50558\n",
       "1    14567\n",
       "Name: count, dtype: int64"
      ]
     },
     "execution_count": 123,
     "metadata": {},
     "output_type": "execute_result"
    }
   ],
   "source": [
    "data.STK_Member = data.STK_Member.map(lambda x: 1 if x == \"Evet\" else 0)\n",
    "data.STK_Member.value_counts()"
   ]
  },
  {
   "cell_type": "code",
   "execution_count": 124,
   "metadata": {},
   "outputs": [],
   "source": [
    "data.rename(columns={\"Hangi STK'nin Uyesisiniz?\": \"STK_Name\"}, inplace=True)"
   ]
  },
  {
   "cell_type": "code",
   "execution_count": 125,
   "metadata": {},
   "outputs": [
    {
     "data": {
      "text/plain": [
       "STK_Name\n",
       "-                                                                                                                                                                           2956\n",
       "Kızılay                                                                                                                                                                      238\n",
       "Toplum Gönüllüleri Vakfı                                                                                                                                                     196\n",
       "TEMA                                                                                                                                                                         181\n",
       "LÖSEV                                                                                                                                                                        149\n",
       "                                                                                                                                                                            ... \n",
       "Dopingle Mücadele Komisyonu                                                                                                                                                    1\n",
       "İzmir gönüllüler                                                                                                                                                               1\n",
       "ODTÜ IEEE - Sosyal Sorumluluk Projesi Grubu üyesiyim. İşaret dili eğitimi aldım.                                                                                               1\n",
       "Genç barış inisiyatifi ve genç kızılay aktif üyesiyim                                                                                                                          1\n",
       "Genç Kızılay Topluluğu'nda 3 yıldır gönüllüyüm. 1 yıl boyunca topluluğun yönetim kurulunda üye ilişkileri birimi sorumlusuydum. Şu an gönüllü olarak toplulukta aktifim.       1\n",
       "Name: count, Length: 9490, dtype: int64"
      ]
     },
     "execution_count": 125,
     "metadata": {},
     "output_type": "execute_result"
    }
   ],
   "source": [
    "data.STK_Name.value_counts()"
   ]
  },
  {
   "cell_type": "code",
   "execution_count": 126,
   "metadata": {},
   "outputs": [],
   "source": [
    "data.drop(columns=[\"STK_Name\"], inplace=True)"
   ]
  },
  {
   "cell_type": "code",
   "execution_count": 127,
   "metadata": {},
   "outputs": [],
   "source": [
    "data.rename(columns={\"Stk Projesine Katildiniz Mi?\": \"STK_Project_Attendee\"}, inplace=True)"
   ]
  },
  {
   "cell_type": "code",
   "execution_count": 128,
   "metadata": {},
   "outputs": [
    {
     "data": {
      "text/plain": [
       "STK_Project_Attendee\n",
       "0    47969\n",
       "1    17156\n",
       "Name: count, dtype: int64"
      ]
     },
     "execution_count": 128,
     "metadata": {},
     "output_type": "execute_result"
    }
   ],
   "source": [
    "data.STK_Project_Attendee = data.STK_Project_Attendee.map(lambda x: 1 if x == \"Evet\" else 0)\n",
    "data.STK_Project_Attendee.value_counts()"
   ]
  },
  {
   "cell_type": "code",
   "execution_count": 129,
   "metadata": {},
   "outputs": [],
   "source": [
    "data.rename(columns={\"Girisimcilikle Ilgili Deneyiminiz Var Mi?\": \"Entrepreneur_Experience\"}, inplace=True)"
   ]
  },
  {
   "cell_type": "code",
   "execution_count": 130,
   "metadata": {},
   "outputs": [
    {
     "data": {
      "text/plain": [
       "Entrepreneur_Experience\n",
       "0    46759\n",
       "1    18366\n",
       "Name: count, dtype: int64"
      ]
     },
     "execution_count": 130,
     "metadata": {},
     "output_type": "execute_result"
    }
   ],
   "source": [
    "data.Entrepreneur_Experience = data.Entrepreneur_Experience.map(lambda x: 1 if x == \"Evet\" else 0)\n",
    "data.Entrepreneur_Experience.value_counts()\n"
   ]
  },
  {
   "cell_type": "code",
   "execution_count": 131,
   "metadata": {},
   "outputs": [],
   "source": [
    "data.rename(columns={\"Girisimcilikle Ilgili Deneyiminizi Aciklayabilir misiniz?\": \"Entrepreneur_Experience_Description\"}, inplace=True)"
   ]
  },
  {
   "cell_type": "code",
   "execution_count": 132,
   "metadata": {},
   "outputs": [
    {
     "data": {
      "text/plain": [
       "Entrepreneur_Experience_Description\n",
       "-                                                                                                                                                                                        5196\n",
       "Ticaret                                                                                                                                                                                    13\n",
       "E ticaret                                                                                                                                                                                   9\n",
       "Borsa                                                                                                                                                                                       8\n",
       "B                                                                                                                                                                                           8\n",
       "                                                                                                                                                                                         ... \n",
       "Suanda restoran işletiyorum. KOSGEB eğitimlerine katıldım fakat destek almadım.                                                                                                             1\n",
       "İnternet projeleri ve mobil projeler oldukça ilgimi çekmektedir. Kendi fikirlerimi hayata geçirdim.                                                                                         1\n",
       "1-Girisimcilik100 2-intelagenda.com 3-Haberchina                                                                                                                                            1\n",
       "45. TUBİTAK MALATYA BÖLGE YARIŞMASI                                                                                                                                                         1\n",
       "Aile desteğiyle yemek sektöründe küçük bir işletme açtık. Ablamla birlikte işletmenin yönetimini sağladık fakat ekonomik sebeplerden dolayı işletmeyi kapatmak mecburiyetinde kaldık.       1\n",
       "Name: count, Length: 9286, dtype: int64"
      ]
     },
     "execution_count": 132,
     "metadata": {},
     "output_type": "execute_result"
    }
   ],
   "source": [
    "data.Entrepreneur_Experience_Description.value_counts()"
   ]
  },
  {
   "cell_type": "code",
   "execution_count": 133,
   "metadata": {},
   "outputs": [],
   "source": [
    "data.drop(columns=[\"Entrepreneur_Experience_Description\"], inplace=True)"
   ]
  },
  {
   "cell_type": "code",
   "execution_count": 134,
   "metadata": {},
   "outputs": [],
   "source": [
    "data.rename(columns={\"Ingilizce Biliyor musunuz?\": \"English_Knowledge\"}, inplace=True)"
   ]
  },
  {
   "cell_type": "code",
   "execution_count": 135,
   "metadata": {},
   "outputs": [
    {
     "data": {
      "text/plain": [
       "English_Knowledge\n",
       "1    48872\n",
       "0    16253\n",
       "Name: count, dtype: int64"
      ]
     },
     "execution_count": 135,
     "metadata": {},
     "output_type": "execute_result"
    }
   ],
   "source": [
    "data.English_Knowledge = data.English_Knowledge.map(lambda x: 1 if x == \"Evet\" else 0)\n",
    "data.English_Knowledge.value_counts()\n"
   ]
  },
  {
   "cell_type": "code",
   "execution_count": 136,
   "metadata": {},
   "outputs": [],
   "source": [
    "data.rename(columns={\"Ingilizce Seviyeniz?\": \"English_Level\"}, inplace=True)"
   ]
  },
  {
   "cell_type": "code",
   "execution_count": 137,
   "metadata": {},
   "outputs": [
    {
     "data": {
      "text/plain": [
       "np.int64(36533)"
      ]
     },
     "execution_count": 137,
     "metadata": {},
     "output_type": "execute_result"
    }
   ],
   "source": [
    "data.English_Level.isna().sum()"
   ]
  },
  {
   "cell_type": "code",
   "execution_count": 138,
   "metadata": {},
   "outputs": [
    {
     "data": {
      "text/plain": [
       "English_Level\n",
       "Orta         13057\n",
       "İleri         8318\n",
       "Başlangıç     5180\n",
       "0             2037\n",
       "Name: count, dtype: int64"
      ]
     },
     "execution_count": 138,
     "metadata": {},
     "output_type": "execute_result"
    }
   ],
   "source": [
    "data.English_Level.value_counts()"
   ]
  },
  {
   "cell_type": "code",
   "execution_count": 139,
   "metadata": {},
   "outputs": [
    {
     "data": {
      "text/plain": [
       "English_Level\n",
       "0    38570\n",
       "2    13057\n",
       "3     8318\n",
       "1     5180\n",
       "Name: count, dtype: int64"
      ]
     },
     "execution_count": 139,
     "metadata": {},
     "output_type": "execute_result"
    }
   ],
   "source": [
    "english_level_mapping = {\n",
    "    '0': 0,\n",
    "    'Başlangıç': 1,\n",
    "    'Orta': 2,\n",
    "    'İleri': 3\n",
    "}\n",
    "\n",
    "data.English_Level= data.English_Level.apply(lambda x: english_level_mapping.get(x, 0))\n",
    "data.English_Level.value_counts()"
   ]
  },
  {
   "cell_type": "code",
   "execution_count": 140,
   "metadata": {},
   "outputs": [],
   "source": [
    "data.rename(columns={\"Profesyonel Bir Spor Daliyla Mesgul musunuz?\": \"Sports_Professional\"}, inplace=True)"
   ]
  },
  {
   "cell_type": "code",
   "execution_count": 141,
   "metadata": {},
   "outputs": [
    {
     "data": {
      "text/plain": [
       "Sports_Professional\n",
       "0    43358\n",
       "1    21767\n",
       "Name: count, dtype: int64"
      ]
     },
     "execution_count": 141,
     "metadata": {},
     "output_type": "execute_result"
    }
   ],
   "source": [
    "data.Sports_Professional = data.Sports_Professional.map(lambda x: 1 if x == \"Evet\" else 0)\n",
    "data.Sports_Professional.value_counts()"
   ]
  },
  {
   "cell_type": "code",
   "execution_count": 142,
   "metadata": {},
   "outputs": [],
   "source": [
    "data.rename(columns={\"Spor Dalindaki Rolunuz Nedir?\": \"Sports_Role\"}, inplace=True)"
   ]
  },
  {
   "cell_type": "code",
   "execution_count": 143,
   "metadata": {},
   "outputs": [
    {
     "data": {
      "text/plain": [
       "Sports_Role\n",
       "0                 11315\n",
       "Diğer              8836\n",
       "-                  4173\n",
       "Lider/Kaptan       1994\n",
       "DİĞER              1945\n",
       "Bireysel           1697\n",
       "Takım Oyuncusu     1175\n",
       "Kaptan              873\n",
       "KAPTAN / LİDER      842\n",
       "Name: count, dtype: int64"
      ]
     },
     "execution_count": 143,
     "metadata": {},
     "output_type": "execute_result"
    }
   ],
   "source": [
    "data.Sports_Role.value_counts()"
   ]
  },
  {
   "cell_type": "code",
   "execution_count": 307,
   "metadata": {},
   "outputs": [],
   "source": [
    "data.Sports_Role.fillna(\"-\", inplace=True)"
   ]
  },
  {
   "cell_type": "code",
   "execution_count": 308,
   "metadata": {},
   "outputs": [
    {
     "data": {
      "text/plain": [
       "Sports_Role\n",
       "-                 47763\n",
       "Diğer             10781\n",
       "Lider              3709\n",
       "Bireysel           1697\n",
       "Takım Oyuncusu     1175\n",
       "Name: count, dtype: int64"
      ]
     },
     "execution_count": 308,
     "metadata": {},
     "output_type": "execute_result"
    }
   ],
   "source": [
    "def fix_sports_role(x):\n",
    "    if x in ['0', '-']:\n",
    "        return '-'\n",
    "    if x in ['Lider/Kaptan', 'Kaptan', 'KAPTAN / LİDER']:\n",
    "        return 'Lider'\n",
    "    if x in ['Diğer', \"DİĞER\"]:\n",
    "        return 'Diğer'\n",
    "    return x\n",
    "\n",
    "data.Sports_Role = data.Sports_Role.apply(fix_sports_role)\n",
    "data.Sports_Role.value_counts()"
   ]
  },
  {
   "cell_type": "code",
   "execution_count": 306,
   "metadata": {},
   "outputs": [
    {
     "data": {
      "text/plain": [
       "np.int64(32275)"
      ]
     },
     "execution_count": 306,
     "metadata": {},
     "output_type": "execute_result"
    }
   ],
   "source": [
    "data.Sports_Role.isna().sum()"
   ]
  },
  {
   "cell_type": "code",
   "execution_count": 309,
   "metadata": {},
   "outputs": [],
   "source": [
    "data.drop(columns=[\"Sports_Role\"], inplace=True)"
   ]
  },
  {
   "cell_type": "code",
   "execution_count": 145,
   "metadata": {},
   "outputs": [],
   "source": [
    "data.rename(columns={\"Girisimcilik Kulupleri Tarzi Bir Kulube Uye misiniz?\": \"Startup_Club_Member\"}, inplace=True)"
   ]
  },
  {
   "cell_type": "code",
   "execution_count": 146,
   "metadata": {},
   "outputs": [
    {
     "data": {
      "text/plain": [
       "Startup_Club_Member\n",
       "0    35539\n",
       "1    29586\n",
       "Name: count, dtype: int64"
      ]
     },
     "execution_count": 146,
     "metadata": {},
     "output_type": "execute_result"
    }
   ],
   "source": [
    "data.Startup_Club_Member = data.Startup_Club_Member.map(lambda x: 1 if x == \"Evet\" else 0)\n",
    "data.Startup_Club_Member.value_counts()"
   ]
  },
  {
   "cell_type": "code",
   "execution_count": 147,
   "metadata": {},
   "outputs": [],
   "source": [
    "data.rename(columns={\"Uye Oldugunuz Kulubun Ismi\": \"Startup_Club_Name\"}, inplace=True)"
   ]
  },
  {
   "cell_type": "code",
   "execution_count": 149,
   "metadata": {},
   "outputs": [
    {
     "data": {
      "text/plain": [
       "Startup_Club_Name\n",
       "IEEE                                                                            203\n",
       "Girişimcilik Kulübü                                                              60\n",
       "Kalite ve Verimlilik Kulübü                                                      43\n",
       "AIESEC                                                                           40\n",
       "İşletme Kulübü                                                                   39\n",
       "                                                                               ... \n",
       "KARADENİZ TEKNİK ÜNİVERSİTESİ EDEBİYAT KLÜBÜ                                      1\n",
       "Koüsat                                                                            1\n",
       "İzmir gençleri dağcılık klübü                                                     1\n",
       "üniversite bünyesinde işletme kulübü ve kültür kulübünde aktif rol alıyorum.      1\n",
       "Genç Kızılay                                                                      1\n",
       "Name: count, Length: 13423, dtype: int64"
      ]
     },
     "execution_count": 149,
     "metadata": {},
     "output_type": "execute_result"
    }
   ],
   "source": [
    "data.Startup_Club_Name.value_counts()"
   ]
  },
  {
   "cell_type": "code",
   "execution_count": 212,
   "metadata": {},
   "outputs": [
    {
     "data": {
      "text/plain": [
       "Startup_Club_Name\n",
       "-                                                                                   48694\n",
       "ieee                                                                                  237\n",
       "girişimcilik kulübü                                                                   106\n",
       "aiesec                                                                                 62\n",
       "i̇şletme kulübü                                                                        60\n",
       "                                                                                    ...  \n",
       "yıldız teknik üniversitesi i̇şletme klubü, yıldız teknik üniversitesi spor klubü        1\n",
       "bilim ve teknoloji toplulugu , cevre toplulugu , hip-hop dans toplulugu                 1\n",
       "enso, buyak                                                                             1\n",
       "i̇stanbul üniversitesi hukuk fakültesi sinema klübü                                     1\n",
       "genç kızılay                                                                            1\n",
       "Name: count, Length: 12441, dtype: int64"
      ]
     },
     "execution_count": 212,
     "metadata": {},
     "output_type": "execute_result"
    }
   ],
   "source": [
    "data.Startup_Club_Name = data.Startup_Club_Name.apply(lambda x: \"-\" if str(x) == \"nan\" else str(x))\n",
    "data.Startup_Club_Name.value_counts()"
   ]
  },
  {
   "cell_type": "code",
   "execution_count": 248,
   "metadata": {},
   "outputs": [
    {
     "data": {
      "text/plain": [
       "11691"
      ]
     },
     "execution_count": 248,
     "metadata": {},
     "output_type": "execute_result"
    }
   ],
   "source": [
    "data.Startup_Club_Name.nunique()"
   ]
  },
  {
   "cell_type": "code",
   "execution_count": 249,
   "metadata": {},
   "outputs": [],
   "source": [
    "data.drop(columns=[\"Startup_Club_Name\"], inplace=True, axis=1)"
   ]
  },
  {
   "cell_type": "code",
   "execution_count": 213,
   "metadata": {},
   "outputs": [],
   "source": [
    "import unicodedata\n",
    "\n",
    "# Fazla boşlukları ve büyük/küçük harf farkını düzeltme fonksiyonu\n",
    "def fix_unicodedata(x):\n",
    "    # Stringe çevir ve küçük harfe dönüştür\n",
    "    x = str(x).lower().strip()\n",
    "    \n",
    "    # Fazla boşlukları tek bir boşluğa indirgeme\n",
    "    x = ' '.join(x.split())\n",
    "    \n",
    "    # Unicode normalizasyonu yap\n",
    "    x = unicodedata.normalize('NFKD', x)\n",
    "    x = ''.join([c for c in x if not unicodedata.combining(c)])\n",
    "    return x"
   ]
  },
  {
   "cell_type": "code",
   "execution_count": 220,
   "metadata": {},
   "outputs": [
    {
     "data": {
      "text/plain": [
       "Startup_Club_Name\n",
       "-                                                  48694\n",
       "ieee                                                 273\n",
       "girisimcilik kulubu                                  127\n",
       "isletme kulubu                                        84\n",
       "aiesec                                                65\n",
       "kalite ve verimlilik kulubu                           63\n",
       "genc girisimciler kulubu                              47\n",
       "odtu isletme toplulugu                                43\n",
       "toplum gonulluleri                                    42\n",
       "isletme ve ekonomi kulubu                             38\n",
       "endustri muhendisligi kulubu                          37\n",
       "itu girisimcilik kulubu                               37\n",
       "tema                                                  36\n",
       "toplum gonulluleri vakfı                              36\n",
       "bogazici universitesi isletme ve ekonomi kulubu       34\n",
       "Name: count, dtype: int64"
      ]
     },
     "execution_count": 220,
     "metadata": {},
     "output_type": "execute_result"
    }
   ],
   "source": [
    "data.Startup_Club_Name = data.Startup_Club_Name.apply(fix_unicodedata)\n",
    "data.Startup_Club_Name.value_counts()[0:15]\n"
   ]
  },
  {
   "cell_type": "code",
   "execution_count": 221,
   "metadata": {},
   "outputs": [
    {
     "data": {
      "text/plain": [
       "Startup_Club_Name\n",
       "odtu genc girisimciler toplulugu             33\n",
       "girisimcilik klubu                           33\n",
       "odtu verimlilik toplulugu                    32\n",
       "ieee odtu                                    30\n",
       "tiyatro                                      28\n",
       "tiyatro kulubu                               28\n",
       "tog                                          26\n",
       "sinema kulubu                                26\n",
       "itu endustri muhendisligi kulubu             24\n",
       "isletme klubu                                23\n",
       "turkmsic                                     23\n",
       "genc girisimciler toplulugu                  23\n",
       "istanbul universitesi girisimcilik kulubu    22\n",
       "yesilay                                      22\n",
       "satranc kulubu                               21\n",
       "Name: count, dtype: int64"
      ]
     },
     "execution_count": 221,
     "metadata": {},
     "output_type": "execute_result"
    }
   ],
   "source": [
    "data.Startup_Club_Name.value_counts()[15:30]\n"
   ]
  },
  {
   "cell_type": "code",
   "execution_count": 153,
   "metadata": {},
   "outputs": [],
   "source": [
    "data.rename(columns={\"Kardes Sayisi\": \"Siblings\"}, inplace=True)"
   ]
  },
  {
   "cell_type": "code",
   "execution_count": 154,
   "metadata": {},
   "outputs": [
    {
     "data": {
      "text/plain": [
       "Siblings\n",
       "1.0                                             16186\n",
       "2.0                                             13062\n",
       "3.0                                              6734\n",
       "1                                                6054\n",
       "4.0                                              4611\n",
       "2                                                3938\n",
       "0.0                                              3701\n",
       "5.0                                              3421\n",
       "3                                                2087\n",
       "0                                                1381\n",
       "4                                                 998\n",
       "5                                                 715\n",
       "6.0                                               206\n",
       "7.0                                               159\n",
       "6                                                 135\n",
       "10.0                                              127\n",
       "7                                                 119\n",
       "8.0                                                98\n",
       "9.0                                                79\n",
       "8                                                  75\n",
       "9                                                  43\n",
       "10                                                 42\n",
       "11                                                 12\n",
       "12                                                  5\n",
       "13                                                  2\n",
       "14                                                  1\n",
       "18                                                  1\n",
       "Kardeş Sayısı 1 Ek Bilgi Aile Hk. Anne Vefat        1\n",
       "Name: count, dtype: int64"
      ]
     },
     "execution_count": 154,
     "metadata": {},
     "output_type": "execute_result"
    }
   ],
   "source": [
    "data.Siblings.value_counts()"
   ]
  },
  {
   "cell_type": "code",
   "execution_count": 155,
   "metadata": {},
   "outputs": [
    {
     "data": {
      "text/plain": [
       "np.int64(1132)"
      ]
     },
     "execution_count": 155,
     "metadata": {},
     "output_type": "execute_result"
    }
   ],
   "source": [
    "data.Siblings.isna().sum()"
   ]
  },
  {
   "cell_type": "code",
   "execution_count": 156,
   "metadata": {},
   "outputs": [
    {
     "data": {
      "text/plain": [
       "dtype('O')"
      ]
     },
     "execution_count": 156,
     "metadata": {},
     "output_type": "execute_result"
    }
   ],
   "source": [
    "data.Siblings.dtypes"
   ]
  },
  {
   "cell_type": "code",
   "execution_count": 157,
   "metadata": {},
   "outputs": [],
   "source": [
    "data.Siblings = data.Siblings.apply(lambda x: int(x) if str(x).isdigit() else 0)"
   ]
  },
  {
   "cell_type": "code",
   "execution_count": 158,
   "metadata": {},
   "outputs": [
    {
     "data": {
      "text/plain": [
       "Siblings\n",
       "0     50898\n",
       "1      6054\n",
       "2      3938\n",
       "3      2087\n",
       "4       998\n",
       "5       715\n",
       "6       135\n",
       "7       119\n",
       "8        75\n",
       "9        43\n",
       "10       42\n",
       "11       12\n",
       "12        5\n",
       "13        2\n",
       "18        1\n",
       "14        1\n",
       "Name: count, dtype: int64"
      ]
     },
     "execution_count": 158,
     "metadata": {},
     "output_type": "execute_result"
    }
   ],
   "source": [
    "data.Siblings.value_counts()"
   ]
  },
  {
   "cell_type": "code",
   "execution_count": 159,
   "metadata": {},
   "outputs": [],
   "source": [
    "data.rename(columns={\"Baba Calisma Durumu\": \"Father_Job\"}, inplace=True)"
   ]
  },
  {
   "cell_type": "code",
   "execution_count": 160,
   "metadata": {},
   "outputs": [
    {
     "data": {
      "text/plain": [
       "Father_Job\n",
       "Evet      28559\n",
       "Hayır     12486\n",
       "Emekli    11462\n",
       "Name: count, dtype: int64"
      ]
     },
     "execution_count": 160,
     "metadata": {},
     "output_type": "execute_result"
    }
   ],
   "source": [
    "data.Father_Job.value_counts()"
   ]
  },
  {
   "cell_type": "code",
   "execution_count": 161,
   "metadata": {},
   "outputs": [],
   "source": [
    "#buraya one-hot encoding uygulayabiliriz"
   ]
  },
  {
   "cell_type": "code",
   "execution_count": 162,
   "metadata": {},
   "outputs": [],
   "source": [
    "data.rename(columns={\"Anne Calisma Durumu\": \"Mother_Job\"}, inplace=True)"
   ]
  },
  {
   "cell_type": "code",
   "execution_count": 163,
   "metadata": {},
   "outputs": [
    {
     "data": {
      "text/plain": [
       "Mother_Job\n",
       "Hayır     39371\n",
       "Evet      10504\n",
       "Emekli     3354\n",
       "Name: count, dtype: int64"
      ]
     },
     "execution_count": 163,
     "metadata": {},
     "output_type": "execute_result"
    }
   ],
   "source": [
    "data.Mother_Job.value_counts()"
   ]
  },
  {
   "cell_type": "code",
   "execution_count": 164,
   "metadata": {},
   "outputs": [],
   "source": [
    "data.rename(columns={\"Baba Sektor\": \"Father_Sector\"}, inplace=True)"
   ]
  },
  {
   "cell_type": "code",
   "execution_count": 165,
   "metadata": {},
   "outputs": [
    {
     "data": {
      "text/plain": [
       "Father_Sector\n",
       "Özel Sektör    11293\n",
       "Kamu            7457\n",
       "Diğer           6717\n",
       "0               6631\n",
       "ÖZEL SEKTÖR     4320\n",
       "-               3070\n",
       "KAMU            2862\n",
       "DİĞER           2397\n",
       "Name: count, dtype: int64"
      ]
     },
     "execution_count": 165,
     "metadata": {},
     "output_type": "execute_result"
    }
   ],
   "source": [
    "data.Father_Sector.value_counts()"
   ]
  },
  {
   "cell_type": "code",
   "execution_count": 222,
   "metadata": {},
   "outputs": [],
   "source": [
    "data.Father_Sector[data.Mother_Sector.isna()] = \"-\""
   ]
  },
  {
   "cell_type": "code",
   "execution_count": 225,
   "metadata": {},
   "outputs": [],
   "source": [
    "def fix_parent_sector(x):\n",
    "    if x in ['0', '-', 'nan']:\n",
    "        return '-'\n",
    "    return fix_unicodedata(x)"
   ]
  },
  {
   "cell_type": "code",
   "execution_count": 226,
   "metadata": {},
   "outputs": [
    {
     "data": {
      "text/plain": [
       "Father_Sector\n",
       "-              30079\n",
       "ozel sektor    15613\n",
       "kamu           10319\n",
       "diger           9114\n",
       "Name: count, dtype: int64"
      ]
     },
     "execution_count": 226,
     "metadata": {},
     "output_type": "execute_result"
    }
   ],
   "source": [
    "data.Father_Sector = data.Father_Sector.apply(fix_parent_sector)\n",
    "data.Father_Sector.value_counts()"
   ]
  },
  {
   "cell_type": "code",
   "execution_count": 166,
   "metadata": {},
   "outputs": [],
   "source": [
    "data.rename(columns={\"Anne Sektor\": \"Mother_Sector\"}, inplace=True)"
   ]
  },
  {
   "cell_type": "code",
   "execution_count": 174,
   "metadata": {},
   "outputs": [
    {
     "data": {
      "text/plain": [
       "Mother_Sector\n",
       "0              11780\n",
       "-               5827\n",
       "Özel Sektör     4425\n",
       "Kamu            3805\n",
       "ÖZEL SEKTÖR     1617\n",
       "KAMU            1344\n",
       "Diğer           1333\n",
       "DİĞER            457\n",
       "Name: count, dtype: int64"
      ]
     },
     "execution_count": 174,
     "metadata": {},
     "output_type": "execute_result"
    }
   ],
   "source": [
    "data.Mother_Sector.value_counts()"
   ]
  },
  {
   "cell_type": "code",
   "execution_count": 175,
   "metadata": {},
   "outputs": [],
   "source": [
    "data.Mother_Sector[data.Mother_Sector.isna()] = \"-\""
   ]
  },
  {
   "cell_type": "code",
   "execution_count": 183,
   "metadata": {},
   "outputs": [
    {
     "data": {
      "text/plain": [
       "Mother_Sector\n",
       "-                52144\n",
       "özel sektör     6042\n",
       "kamu              5149\n",
       "diğer            1333\n",
       "di̇ğer            457\n",
       "Name: count, dtype: int64"
      ]
     },
     "execution_count": 183,
     "metadata": {},
     "output_type": "execute_result"
    }
   ],
   "source": [
    "data.Mother_Sector.value_counts()"
   ]
  },
  {
   "cell_type": "code",
   "execution_count": 227,
   "metadata": {},
   "outputs": [
    {
     "data": {
      "text/plain": [
       "Mother_Sector\n",
       "-              52144\n",
       "ozel sektor     6042\n",
       "kamu            5149\n",
       "diger           1790\n",
       "Name: count, dtype: int64"
      ]
     },
     "execution_count": 227,
     "metadata": {},
     "output_type": "execute_result"
    }
   ],
   "source": [
    "data.Mother_Sector = data.Mother_Sector.apply(fix_parent_sector)\n",
    "data.Mother_Sector.value_counts()"
   ]
  },
  {
   "cell_type": "code",
   "execution_count": 228,
   "metadata": {},
   "outputs": [
    {
     "name": "stdout",
     "output_type": "stream",
     "text": [
      "Daha Önceden Mezun Olunduysa, Mezun Olunan Üniversite    99.356622\n",
      "Lise Bolum Diger                                         97.656814\n",
      "Lise Adi Diger                                           92.732438\n",
      "Baska Kurumdan Aldigi Burs Miktari                       67.811132\n",
      "Burs Aldigi Baska Kurum                                  67.527063\n",
      "Burslu ise Burs Yuzdesi                                  65.543186\n",
      "Daha Once Baska Bir Universiteden Mezun Olmus            57.343570\n",
      "Sports_Role                                              49.558541\n",
      "Father_Job                                               19.375048\n",
      "Mother_Job                                               18.266411\n",
      "Lise Mezuniyet Notu                                       9.085605\n",
      "Universite Not Ortalamasi                                 4.227255\n",
      "Ikametgah Sehri                                           3.127831\n",
      "Lise Sehir                                                1.618426\n",
      "Lise Bolumu                                               1.549328\n",
      "Baba Egitim Durumu                                        1.546257\n",
      "Lise Turu                                                 1.300576\n",
      "Dogum Yeri                                                1.214587\n",
      "Anne Egitim Durumu                                        0.623417\n",
      "Lise Adi                                                  0.589635\n",
      "Universite Kacinci Sinif                                  0.574280\n",
      "Universite Turu                                           0.391555\n",
      "Baska Bir Kurumdan Burs Aliyor mu?                        0.354702\n",
      "Bölüm                                                     0.354702\n",
      "Dogum Tarihi                                              0.271785\n",
      "Cinsiyet                                                  0.259501\n",
      "Universite Adi                                            0.202687\n",
      "Degerlendirme Puani                                       0.001536\n",
      "dtype: float64\n"
     ]
    }
   ],
   "source": [
    "missing_datar = data.isnull().sum() / len(data) * 100\n",
    "print(missing_datar[missing_datar > 0].sort_values(ascending=False))"
   ]
  },
  {
   "cell_type": "code",
   "execution_count": 229,
   "metadata": {},
   "outputs": [
    {
     "data": {
      "text/plain": [
       "Index(['Basvuru Yili', 'Degerlendirme Puani', 'Cinsiyet', 'Dogum Tarihi',\n",
       "       'Dogum Yeri', 'Ikametgah Sehri', 'Universite Adi', 'Universite Turu',\n",
       "       'Burslu ise Burs Yuzdesi', 'Burs Aliyor mu?', 'Bölüm',\n",
       "       'Universite Kacinci Sinif', 'Universite Not Ortalamasi',\n",
       "       'Daha Once Baska Bir Universiteden Mezun Olmus', 'Lise Adi',\n",
       "       'Lise Adi Diger', 'Lise Sehir', 'Lise Turu', 'Lise Bolumu',\n",
       "       'Lise Bolum Diger', 'Lise Mezuniyet Notu',\n",
       "       'Baska Bir Kurumdan Burs Aliyor mu?', 'Burs Aldigi Baska Kurum',\n",
       "       'Baska Kurumdan Aldigi Burs Miktari', 'Anne Egitim Durumu',\n",
       "       'Mother_Job', 'Mother_Sector', 'Baba Egitim Durumu', 'Father_Job',\n",
       "       'Father_Sector', 'Siblings', 'Startup_Club_Member', 'Startup_Club_Name',\n",
       "       'Sports_Professional', 'Sports_Role', 'STK_Member',\n",
       "       'STK_Project_Attendee', 'Entrepreneur_Experience', 'English_Knowledge',\n",
       "       'English_Level',\n",
       "       'Daha Önceden Mezun Olunduysa, Mezun Olunan Üniversite'],\n",
       "      dtype='object')"
      ]
     },
     "execution_count": 229,
     "metadata": {},
     "output_type": "execute_result"
    }
   ],
   "source": [
    "data.columns"
   ]
  },
  {
   "cell_type": "code",
   "execution_count": 230,
   "metadata": {},
   "outputs": [
    {
     "data": {
      "text/plain": [
       "Entrepreneur_Experience\n",
       "0    46759\n",
       "1    18366\n",
       "Name: count, dtype: int64"
      ]
     },
     "execution_count": 230,
     "metadata": {},
     "output_type": "execute_result"
    }
   ],
   "source": [
    "data.Entrepreneur_Experience.value_counts()"
   ]
  },
  {
   "cell_type": "code",
   "execution_count": 231,
   "metadata": {},
   "outputs": [],
   "source": [
    "data['Entrepreneur_Experience_Description'] = data_['Girisimcilikle Ilgili Deneyiminizi Aciklayabilir misiniz?']"
   ]
  },
  {
   "cell_type": "code",
   "execution_count": 232,
   "metadata": {},
   "outputs": [
    {
     "data": {
      "text/plain": [
       "Entrepreneur_Experience_Description\n",
       "-                                                                                                                                                                                        5196\n",
       "Ticaret                                                                                                                                                                                    13\n",
       "E ticaret                                                                                                                                                                                   9\n",
       "Borsa                                                                                                                                                                                       8\n",
       "B                                                                                                                                                                                           8\n",
       "                                                                                                                                                                                         ... \n",
       "Suanda restoran işletiyorum. KOSGEB eğitimlerine katıldım fakat destek almadım.                                                                                                             1\n",
       "İnternet projeleri ve mobil projeler oldukça ilgimi çekmektedir. Kendi fikirlerimi hayata geçirdim.                                                                                         1\n",
       "1-Girisimcilik100 2-intelagenda.com 3-Haberchina                                                                                                                                            1\n",
       "45. TUBİTAK MALATYA BÖLGE YARIŞMASI                                                                                                                                                         1\n",
       "Aile desteğiyle yemek sektöründe küçük bir işletme açtık. Ablamla birlikte işletmenin yönetimini sağladık fakat ekonomik sebeplerden dolayı işletmeyi kapatmak mecburiyetinde kaldık.       1\n",
       "Name: count, Length: 9286, dtype: int64"
      ]
     },
     "execution_count": 232,
     "metadata": {},
     "output_type": "execute_result"
    }
   ],
   "source": [
    "data.Entrepreneur_Experience_Description.value_counts()"
   ]
  },
  {
   "cell_type": "code",
   "execution_count": 243,
   "metadata": {},
   "outputs": [],
   "source": [
    "def check_experience(x):\n",
    "    if x == np.nan or str(x) == \"-\":\n",
    "        return 0\n",
    "    if len(str(x).lower().strip()) == 0:\n",
    "        return 0\n",
    "    return 1"
   ]
  },
  {
   "cell_type": "code",
   "execution_count": 244,
   "metadata": {},
   "outputs": [],
   "source": [
    "data.loc[data.Entrepreneur_Experience == 1, 'Entrepreneur_Experience'] = data.loc[data.Entrepreneur_Experience == 1, 'Entrepreneur_Experience_Description'].apply(check_experience)"
   ]
  },
  {
   "cell_type": "code",
   "execution_count": 245,
   "metadata": {},
   "outputs": [
    {
     "data": {
      "text/plain": [
       "Entrepreneur_Experience\n",
       "0    46763\n",
       "1    18362\n",
       "Name: count, dtype: int64"
      ]
     },
     "execution_count": 245,
     "metadata": {},
     "output_type": "execute_result"
    }
   ],
   "source": [
    "data.Entrepreneur_Experience.value_counts()"
   ]
  },
  {
   "cell_type": "code",
   "execution_count": 252,
   "metadata": {},
   "outputs": [],
   "source": [
    "data.rename(columns={\"Anne Egitim Durumu\": \"Mother_Education\"}, inplace=True)"
   ]
  },
  {
   "cell_type": "code",
   "execution_count": 253,
   "metadata": {},
   "outputs": [
    {
     "data": {
      "text/plain": [
       "Mother_Education\n",
       "İlkokul                    10351\n",
       "Lise                        8467\n",
       "İlkokul Mezunu              8030\n",
       "İLKOKUL MEZUNU              7770\n",
       "Üniversite                  5502\n",
       "Eğitimi yok                 3605\n",
       "LİSE                        3582\n",
       "Ortaokul                    3126\n",
       "EĞİTİM YOK                  2600\n",
       "ÜNİVERSİTE                  2435\n",
       "Eğitim Yok                  2146\n",
       "Ortaokul Mezunu             2119\n",
       "ORTAOKUL MEZUNU             1788\n",
       "Lise Mezunu                 1346\n",
       "Üniversite Mezunu           1075\n",
       "Yüksek Lisans                274\n",
       "YÜKSEK LİSANS                153\n",
       "Yüksek Lisans / Doktora      123\n",
       "Yüksek Lisans / Doktara       85\n",
       "Doktora                       80\n",
       "DOKTORA                       62\n",
       "Name: count, dtype: int64"
      ]
     },
     "execution_count": 253,
     "metadata": {},
     "output_type": "execute_result"
    }
   ],
   "source": [
    "data.Mother_Education.value_counts()"
   ]
  },
  {
   "cell_type": "code",
   "execution_count": 287,
   "metadata": {},
   "outputs": [],
   "source": [
    "data.Mother_Education.fillna(\"-\", inplace=True)"
   ]
  },
  {
   "cell_type": "code",
   "execution_count": 298,
   "metadata": {},
   "outputs": [
    {
     "data": {
      "text/plain": [
       "Mother_Education\n",
       "ilkokul       26151\n",
       "lise          13395\n",
       "universite     9012\n",
       "-              8757\n",
       "ortaokul       7033\n",
       "yuksek          427\n",
       "doktora         350\n",
       "Name: count, dtype: int64"
      ]
     },
     "execution_count": 298,
     "metadata": {},
     "output_type": "execute_result"
    }
   ],
   "source": [
    "def fix_parent_education(x):\n",
    "    x = str(x)\n",
    "    if x == np.nan:\n",
    "        return '-'\n",
    "    if x.lower().strip() in ['0', '-', 'nan']:\n",
    "        return '-'\n",
    "\n",
    "    if \"/\" in x:\n",
    "        x = x.split(\"/\")[1].strip()\n",
    "    if \"yok\" in x.lower().strip():\n",
    "        return '-'\n",
    "    if \"doktara\" in x.lower().strip():\n",
    "        x = \"doktora\"\n",
    "    x = x.split()[0].strip()\n",
    "    \n",
    "    return fix_unicodedata(x)\n",
    "\n",
    "data.Mother_Education = data.Mother_Education.apply(fix_parent_education)\n",
    "data.Mother_Education.value_counts()\n"
   ]
  },
  {
   "cell_type": "code",
   "execution_count": 290,
   "metadata": {},
   "outputs": [],
   "source": [
    "data.rename(columns={\"Baba Egitim Durumu\": \"Father_Education\"}, inplace=True)"
   ]
  },
  {
   "cell_type": "code",
   "execution_count": 291,
   "metadata": {},
   "outputs": [
    {
     "data": {
      "text/plain": [
       "Father_Education\n",
       "Lise                       10008\n",
       "Üniversite                  9149\n",
       "İlkokul                     8257\n",
       "İLKOKUL MEZUNU              5784\n",
       "İlkokul Mezunu              5389\n",
       "LİSE                        4482\n",
       "ÜNİVERSİTE                  4258\n",
       "Ortaokul                    4109\n",
       "Ortaokul Mezunu             2540\n",
       "ORTAOKUL MEZUNU             2531\n",
       "Üniversite Mezunu           1731\n",
       "Lise Mezunu                 1405\n",
       "Eğitimi yok                 1102\n",
       "EĞİTİM YOK                   811\n",
       "Yüksek Lisans                596\n",
       "Eğitim Yok                   585\n",
       "YÜKSEK LİSANS                367\n",
       "Yüksek Lisans / Doktora      289\n",
       "Doktora                      222\n",
       "Yüksek Lisans / Doktara      215\n",
       "DOKTORA                      177\n",
       "0                            111\n",
       "Name: count, dtype: int64"
      ]
     },
     "execution_count": 291,
     "metadata": {},
     "output_type": "execute_result"
    }
   ],
   "source": [
    "data.Father_Education.value_counts()"
   ]
  },
  {
   "cell_type": "code",
   "execution_count": 299,
   "metadata": {},
   "outputs": [
    {
     "data": {
      "text/plain": [
       "Father_Education\n",
       "ilkokul       19430\n",
       "lise          15895\n",
       "universite    15138\n",
       "ortaokul       9180\n",
       "-              3616\n",
       "yuksek          963\n",
       "doktora         903\n",
       "Name: count, dtype: int64"
      ]
     },
     "execution_count": 299,
     "metadata": {},
     "output_type": "execute_result"
    }
   ],
   "source": [
    "data.Father_Education = data.Father_Education.apply(fix_parent_education)\n",
    "data.Father_Education.value_counts()"
   ]
  },
  {
   "cell_type": "code",
   "execution_count": 301,
   "metadata": {},
   "outputs": [
    {
     "name": "stdout",
     "output_type": "stream",
     "text": [
      "Daha Önceden Mezun Olunduysa, Mezun Olunan Üniversite    99.356622\n",
      "Lise Bolum Diger                                         97.656814\n",
      "Lise Adi Diger                                           92.732438\n",
      "Entrepreneur_Experience_Description                      77.583109\n",
      "Baska Kurumdan Aldigi Burs Miktari                       67.811132\n",
      "Burs Aldigi Baska Kurum                                  67.527063\n",
      "Burslu ise Burs Yuzdesi                                  65.543186\n",
      "Daha Once Baska Bir Universiteden Mezun Olmus            57.343570\n",
      "Sports_Role                                              49.558541\n",
      "Father_Job                                               19.375048\n",
      "Mother_Job                                               18.266411\n",
      "Lise Mezuniyet Notu                                       9.085605\n",
      "Universite Not Ortalamasi                                 4.227255\n",
      "Ikametgah Sehri                                           3.127831\n",
      "Lise Sehir                                                1.618426\n",
      "Lise Bolumu                                               1.549328\n",
      "Lise Turu                                                 1.300576\n",
      "Dogum Yeri                                                1.214587\n",
      "Lise Adi                                                  0.589635\n",
      "Universite Kacinci Sinif                                  0.574280\n",
      "Universite Turu                                           0.391555\n",
      "Baska Bir Kurumdan Burs Aliyor mu?                        0.354702\n",
      "Bölüm                                                     0.354702\n",
      "Dogum Tarihi                                              0.271785\n",
      "Cinsiyet                                                  0.259501\n",
      "Universite Adi                                            0.202687\n",
      "Degerlendirme Puani                                       0.001536\n",
      "dtype: float64\n"
     ]
    }
   ],
   "source": [
    "missing_datar = data.isnull().sum() / len(data) * 100\n",
    "print(missing_datar[missing_datar > 0].sort_values(ascending=False))"
   ]
  },
  {
   "cell_type": "code",
   "execution_count": 305,
   "metadata": {},
   "outputs": [
    {
     "data": {
      "text/plain": [
       "Burs Aldigi Baska Kurum\n",
       "-                                   4711\n",
       "KYK                                 2969\n",
       "Kyk                                 2918\n",
       "kyk                                  758\n",
       "Kredi ve Yurtlar Kurumu              624\n",
       "Kredi Yurtlar Kurumu                 490\n",
       "Devlet                               293\n",
       "Kyk bursu                            190\n",
       "Kredi yurtlar kurumu                 179\n",
       "Kredi ve yurtlar kurumu              169\n",
       "KYK bursu                            147\n",
       "K                                     98\n",
       "Devlet bursu                          93\n",
       "Çağdaş Yaşamı Destekleme Derneği      92\n",
       "TEV                                   82\n",
       "Name: count, dtype: int64"
      ]
     },
     "execution_count": 305,
     "metadata": {},
     "output_type": "execute_result"
    }
   ],
   "source": [
    "data['Burs Aldigi Baska Kurum'].value_counts()[:15]\n",
    "# burayi -,kyk,ozel olarak 3e ayir ve one hot encode yapabiliriz"
   ]
  },
  {
   "cell_type": "code",
   "execution_count": 310,
   "metadata": {},
   "outputs": [
    {
     "data": {
      "text/plain": [
       "Universite Adi\n",
       "İSTANBUL ÜNİVERSİTESİ            2083\n",
       "MARMARA ÜNİVERSİTESİ             1672\n",
       "İSTANBUL TEKNİK ÜNİVERSİTESİ     1464\n",
       "YILDIZ TEKNİK ÜNİVERSİTESİ       1438\n",
       "ORTA DOĞU TEKNİK ÜNİVERSİTESİ    1258\n",
       "DOKUZ EYLÜL ÜNİVERSİTESİ         1235\n",
       "BOĞAZİÇİ ÜNİVERSİTESİ            1165\n",
       "KOCAELİ ÜNİVERSİTESİ             1004\n",
       "HACETTEPE ÜNİVERSİTESİ            938\n",
       "GAZİ ÜNİVERSİTESİ                 910\n",
       "EGE ÜNİVERSİTESİ                  887\n",
       "SELÇUK ÜNİVERSİTESİ               886\n",
       "ANADOLU ÜNİVERSİTESİ              853\n",
       "ANKARA ÜNİVERSİTESİ               833\n",
       "SAKARYA ÜNİVERSİTESİ              803\n",
       "Name: count, dtype: int64"
      ]
     },
     "execution_count": 310,
     "metadata": {},
     "output_type": "execute_result"
    }
   ],
   "source": [
    "data['Universite Adi'].value_counts()[:15]"
   ]
  },
  {
   "cell_type": "code",
   "execution_count": 311,
   "metadata": {},
   "outputs": [
    {
     "data": {
      "text/plain": [
       "Index(['Basvuru Yili', 'Degerlendirme Puani', 'Cinsiyet', 'Dogum Tarihi',\n",
       "       'Dogum Yeri', 'Ikametgah Sehri', 'Universite Adi', 'Universite Turu',\n",
       "       'Burslu ise Burs Yuzdesi', 'Burs Aliyor mu?', 'Bölüm',\n",
       "       'Universite Kacinci Sinif', 'Universite Not Ortalamasi',\n",
       "       'Daha Once Baska Bir Universiteden Mezun Olmus', 'Lise Adi',\n",
       "       'Lise Adi Diger', 'Lise Sehir', 'Lise Turu', 'Lise Bolumu',\n",
       "       'Lise Bolum Diger', 'Lise Mezuniyet Notu',\n",
       "       'Baska Bir Kurumdan Burs Aliyor mu?', 'Burs Aldigi Baska Kurum',\n",
       "       'Baska Kurumdan Aldigi Burs Miktari', 'Mother_Education', 'Mother_Job',\n",
       "       'Mother_Sector', 'Father_Education', 'Father_Job', 'Father_Sector',\n",
       "       'Siblings', 'Startup_Club_Member', 'Sports_Professional', 'STK_Member',\n",
       "       'STK_Project_Attendee', 'Entrepreneur_Experience', 'English_Knowledge',\n",
       "       'English_Level',\n",
       "       'Daha Önceden Mezun Olunduysa, Mezun Olunan Üniversite',\n",
       "       'Entrepreneur_Experience_Description'],\n",
       "      dtype='object')"
      ]
     },
     "execution_count": 311,
     "metadata": {},
     "output_type": "execute_result"
    }
   ],
   "source": [
    "data.columns"
   ]
  },
  {
   "cell_type": "code",
   "execution_count": null,
   "metadata": {},
   "outputs": [],
   "source": []
  }
 ],
 "metadata": {
  "kernelspec": {
   "display_name": "Python 3",
   "language": "python",
   "name": "python3"
  },
  "language_info": {
   "codemirror_mode": {
    "name": "ipython",
    "version": 3
   },
   "file_extension": ".py",
   "mimetype": "text/x-python",
   "name": "python",
   "nbconvert_exporter": "python",
   "pygments_lexer": "ipython3",
   "version": "3.11.1"
  }
 },
 "nbformat": 4,
 "nbformat_minor": 2
}
